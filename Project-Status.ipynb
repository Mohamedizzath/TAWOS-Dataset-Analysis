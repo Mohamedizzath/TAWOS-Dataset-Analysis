{
 "cells": [
  {
   "cell_type": "markdown",
   "metadata": {},
   "source": [
    "## Project Sucess\n",
    "\n",
    "This notebooks contains success for given project by analysing number of completed, on-going, and backlog PR"
   ]
  },
  {
   "cell_type": "code",
   "execution_count": 11,
   "metadata": {},
   "outputs": [
    {
     "name": "stdout",
     "output_type": "stream",
     "text": [
      "Requirement already satisfied: PyMySQL in d:\\software-eng-4\\assignment-1\\env\\lib\\site-packages (1.1.1)\n"
     ]
    },
    {
     "name": "stderr",
     "output_type": "stream",
     "text": [
      "\n",
      "[notice] A new release of pip is available: 23.0.1 -> 24.3.1\n",
      "[notice] To update, run: python.exe -m pip install --upgrade pip\n"
     ]
    },
    {
     "name": "stdout",
     "output_type": "stream",
     "text": [
      "Requirement already satisfied: ipython-sql in d:\\software-eng-4\\assignment-1\\env\\lib\\site-packages (0.5.0)\n",
      "Requirement already satisfied: ipython in d:\\software-eng-4\\assignment-1\\env\\lib\\site-packages (from ipython-sql) (8.30.0)\n",
      "Requirement already satisfied: ipython-genutils in d:\\software-eng-4\\assignment-1\\env\\lib\\site-packages (from ipython-sql) (0.2.0)\n",
      "Requirement already satisfied: sqlparse in d:\\software-eng-4\\assignment-1\\env\\lib\\site-packages (from ipython-sql) (0.5.3)\n",
      "Requirement already satisfied: sqlalchemy>=2.0 in d:\\software-eng-4\\assignment-1\\env\\lib\\site-packages (from ipython-sql) (2.0.36)\n",
      "Requirement already satisfied: prettytable in d:\\software-eng-4\\assignment-1\\env\\lib\\site-packages (from ipython-sql) (3.12.0)\n",
      "Requirement already satisfied: six in d:\\software-eng-4\\assignment-1\\env\\lib\\site-packages (from ipython-sql) (1.17.0)\n",
      "Requirement already satisfied: typing-extensions>=4.6.0 in d:\\software-eng-4\\assignment-1\\env\\lib\\site-packages (from sqlalchemy>=2.0->ipython-sql) (4.12.2)\n",
      "Requirement already satisfied: greenlet!=0.4.17 in d:\\software-eng-4\\assignment-1\\env\\lib\\site-packages (from sqlalchemy>=2.0->ipython-sql) (3.1.1)\n",
      "Requirement already satisfied: colorama in d:\\software-eng-4\\assignment-1\\env\\lib\\site-packages (from ipython->ipython-sql) (0.4.6)\n",
      "Requirement already satisfied: traitlets>=5.13.0 in d:\\software-eng-4\\assignment-1\\env\\lib\\site-packages (from ipython->ipython-sql) (5.14.3)\n",
      "Requirement already satisfied: matplotlib-inline in d:\\software-eng-4\\assignment-1\\env\\lib\\site-packages (from ipython->ipython-sql) (0.1.7)\n",
      "Requirement already satisfied: pygments>=2.4.0 in d:\\software-eng-4\\assignment-1\\env\\lib\\site-packages (from ipython->ipython-sql) (2.18.0)\n",
      "Requirement already satisfied: prompt_toolkit<3.1.0,>=3.0.41 in d:\\software-eng-4\\assignment-1\\env\\lib\\site-packages (from ipython->ipython-sql) (3.0.48)\n",
      "Requirement already satisfied: decorator in d:\\software-eng-4\\assignment-1\\env\\lib\\site-packages (from ipython->ipython-sql) (5.1.1)\n",
      "Requirement already satisfied: exceptiongroup in d:\\software-eng-4\\assignment-1\\env\\lib\\site-packages (from ipython->ipython-sql) (1.2.2)\n",
      "Requirement already satisfied: jedi>=0.16 in d:\\software-eng-4\\assignment-1\\env\\lib\\site-packages (from ipython->ipython-sql) (0.19.2)\n",
      "Requirement already satisfied: stack_data in d:\\software-eng-4\\assignment-1\\env\\lib\\site-packages (from ipython->ipython-sql) (0.6.3)\n",
      "Requirement already satisfied: wcwidth in d:\\software-eng-4\\assignment-1\\env\\lib\\site-packages (from prettytable->ipython-sql) (0.2.13)\n",
      "Requirement already satisfied: parso<0.9.0,>=0.8.4 in d:\\software-eng-4\\assignment-1\\env\\lib\\site-packages (from jedi>=0.16->ipython->ipython-sql) (0.8.4)\n",
      "Requirement already satisfied: executing>=1.2.0 in d:\\software-eng-4\\assignment-1\\env\\lib\\site-packages (from stack_data->ipython->ipython-sql) (2.1.0)\n",
      "Requirement already satisfied: pure-eval in d:\\software-eng-4\\assignment-1\\env\\lib\\site-packages (from stack_data->ipython->ipython-sql) (0.2.3)\n",
      "Requirement already satisfied: asttokens>=2.1.0 in d:\\software-eng-4\\assignment-1\\env\\lib\\site-packages (from stack_data->ipython->ipython-sql) (3.0.0)\n"
     ]
    },
    {
     "name": "stderr",
     "output_type": "stream",
     "text": [
      "\n",
      "[notice] A new release of pip is available: 23.0.1 -> 24.3.1\n",
      "[notice] To update, run: python.exe -m pip install --upgrade pip\n"
     ]
    },
    {
     "name": "stdout",
     "output_type": "stream",
     "text": [
      "Requirement already satisfied: mysqlclient in d:\\software-eng-4\\assignment-1\\env\\lib\\site-packages (2.2.6)\n"
     ]
    },
    {
     "name": "stderr",
     "output_type": "stream",
     "text": [
      "\n",
      "[notice] A new release of pip is available: 23.0.1 -> 24.3.1\n",
      "[notice] To update, run: python.exe -m pip install --upgrade pip\n"
     ]
    },
    {
     "name": "stdout",
     "output_type": "stream",
     "text": [
      "Requirement already satisfied: pandas in d:\\software-eng-4\\assignment-1\\env\\lib\\site-packages (2.2.3)\n",
      "Requirement already satisfied: numpy>=1.22.4 in d:\\software-eng-4\\assignment-1\\env\\lib\\site-packages (from pandas) (2.2.0)\n",
      "Requirement already satisfied: python-dateutil>=2.8.2 in d:\\software-eng-4\\assignment-1\\env\\lib\\site-packages (from pandas) (2.9.0.post0)\n",
      "Requirement already satisfied: pytz>=2020.1 in d:\\software-eng-4\\assignment-1\\env\\lib\\site-packages (from pandas) (2024.2)\n",
      "Requirement already satisfied: tzdata>=2022.7 in d:\\software-eng-4\\assignment-1\\env\\lib\\site-packages (from pandas) (2024.2)\n",
      "Requirement already satisfied: six>=1.5 in d:\\software-eng-4\\assignment-1\\env\\lib\\site-packages (from python-dateutil>=2.8.2->pandas) (1.17.0)\n"
     ]
    },
    {
     "name": "stderr",
     "output_type": "stream",
     "text": [
      "\n",
      "[notice] A new release of pip is available: 23.0.1 -> 24.3.1\n",
      "[notice] To update, run: python.exe -m pip install --upgrade pip\n"
     ]
    },
    {
     "name": "stdout",
     "output_type": "stream",
     "text": [
      "Requirement already satisfied: matplotlib in d:\\software-eng-4\\assignment-1\\env\\lib\\site-packages (3.10.0)\n",
      "Requirement already satisfied: pillow>=8 in d:\\software-eng-4\\assignment-1\\env\\lib\\site-packages (from matplotlib) (11.0.0)\n",
      "Requirement already satisfied: pyparsing>=2.3.1 in d:\\software-eng-4\\assignment-1\\env\\lib\\site-packages (from matplotlib) (3.2.0)\n",
      "Requirement already satisfied: kiwisolver>=1.3.1 in d:\\software-eng-4\\assignment-1\\env\\lib\\site-packages (from matplotlib) (1.4.7)\n",
      "Requirement already satisfied: numpy>=1.23 in d:\\software-eng-4\\assignment-1\\env\\lib\\site-packages (from matplotlib) (2.2.0)\n",
      "Requirement already satisfied: packaging>=20.0 in d:\\software-eng-4\\assignment-1\\env\\lib\\site-packages (from matplotlib) (24.2)\n",
      "Requirement already satisfied: contourpy>=1.0.1 in d:\\software-eng-4\\assignment-1\\env\\lib\\site-packages (from matplotlib) (1.3.1)\n",
      "Requirement already satisfied: python-dateutil>=2.7 in d:\\software-eng-4\\assignment-1\\env\\lib\\site-packages (from matplotlib) (2.9.0.post0)\n",
      "Requirement already satisfied: cycler>=0.10 in d:\\software-eng-4\\assignment-1\\env\\lib\\site-packages (from matplotlib) (0.12.1)\n",
      "Requirement already satisfied: fonttools>=4.22.0 in d:\\software-eng-4\\assignment-1\\env\\lib\\site-packages (from matplotlib) (4.55.3)\n",
      "Requirement already satisfied: six>=1.5 in d:\\software-eng-4\\assignment-1\\env\\lib\\site-packages (from python-dateutil>=2.7->matplotlib) (1.17.0)\n"
     ]
    },
    {
     "name": "stderr",
     "output_type": "stream",
     "text": [
      "\n",
      "[notice] A new release of pip is available: 23.0.1 -> 24.3.1\n",
      "[notice] To update, run: python.exe -m pip install --upgrade pip\n"
     ]
    },
    {
     "name": "stdout",
     "output_type": "stream",
     "text": [
      "Requirement already satisfied: numpy in d:\\software-eng-4\\assignment-1\\env\\lib\\site-packages (2.2.0)\n"
     ]
    },
    {
     "name": "stderr",
     "output_type": "stream",
     "text": [
      "\n",
      "[notice] A new release of pip is available: 23.0.1 -> 24.3.1\n",
      "[notice] To update, run: python.exe -m pip install --upgrade pip\n"
     ]
    }
   ],
   "source": [
    "# Installing required packages\n",
    "! pip install PyMySQL\n",
    "! pip install ipython-sql\n",
    "! pip install mysqlclient\n",
    "! pip install pandas\n",
    "! pip install matplotlib\n",
    "! pip install numpy"
   ]
  },
  {
   "cell_type": "code",
   "execution_count": 23,
   "metadata": {},
   "outputs": [
    {
     "name": "stdout",
     "output_type": "stream",
     "text": [
      "connection successful\n"
     ]
    }
   ],
   "source": [
    "# Conecting to the MySQL database\n",
    "import pymysql\n",
    "\n",
    "db_name = \"se_assignment\"\n",
    "db_host = \"localhost\"\n",
    "db_username = \"root\"\n",
    "db_password = \"izzath\"\n",
    "\n",
    "try:\n",
    "    conn = pymysql.connect(host = db_host, port = int(3306), user = db_username, password = db_password, db = db_name)\n",
    "except e:\n",
    "    print (e)\n",
    "if conn:\n",
    "    print (\"connection successful\")\n",
    "else:\n",
    "        print (\"error\")"
   ]
  },
  {
   "cell_type": "code",
   "execution_count": 13,
   "metadata": {},
   "outputs": [
    {
     "name": "stderr",
     "output_type": "stream",
     "text": [
      "C:\\Users\\Izzath\\AppData\\Local\\Temp\\ipykernel_62976\\2015105381.py:3: UserWarning: pandas only supports SQLAlchemy connectable (engine/connection) or database string URI or sqlite3 DBAPI2 connection. Other DBAPI2 objects are not tested. Please consider using SQLAlchemy.\n",
      "  df1 = pd.read_sql_query(\"\"\"SELECT Issue.Status , Project.Name AS Project_Name, repository.Name AS Repo_Name FROM Issue INNER JOIN Project ON Issue.Project_ID = Project.ID INNER JOIN repository ON project.Repository_ID = repository.ID\"\"\", conn)\n"
     ]
    }
   ],
   "source": [
    "import pandas as pd\n",
    "# Getting status of each Issue categorized into in-progress, completed, and blocked\n",
    "df1 = pd.read_sql_query(\"\"\"SELECT Issue.Status , Project.Name AS Project_Name, repository.Name AS Repo_Name FROM Issue INNER JOIN Project ON Issue.Project_ID = Project.ID INNER JOIN repository ON project.Repository_ID = repository.ID\"\"\", conn)\n",
    "\n",
    "df1 = df1.drop_duplicates()\n",
    "# Getting only the status column\n",
    "df2 = df1[\"Status\"].drop_duplicates()"
   ]
  },
  {
   "cell_type": "code",
   "execution_count": 14,
   "metadata": {},
   "outputs": [],
   "source": [
    "# Classification\n",
    "completed = ['Done', 'Closed', 'Resolved', 'Accepted', 'Published', 'Complete']\n",
    "in_progress = ['To Do', 'In PR', 'In Progress', 'Open', 'New', 'In Development', 'To Be Tested', 'Testing In Progress', 'Raw', 'Ready for Development', 'Ready to Groom', 'Reviewable', 'Patch Available', 'Reopened', 'In Review', 'Gathering Interest', 'Needs Triage', 'Gathering Impact', 'Waiting for Release', 'Reviewing', 'Backlog', 'Planning', 'To Test', 'Code Review', 'To Develop', 'Ready for Work', 'Scoping', 'In Code Review', 'Investigating' 'Unverified', 'In CR Review', 'Reviewed', 'Selected for Development', 'Debugging With Submitter', 'Needs Design', 'Debugging',  'Development in progress', 'Scheduled','Debugging', 'Development in progress', 'Tested', 'Peer review in progress', 'Integration review in progress', 'Testing in progress',   'Triaged', 'In QE Test', 'Planned Development', 'Pull Request Submitted', 'Automation', 'Needs Scheduling', 'Needs Verification', 'Needs Merge']\n",
    "blocked = ['Long Term Backlog', 'Short Term Backlog', 'Under Consideration', 'Future Consideration', 'Not Being Considered'  'Returned', 'Invalid', \"Won't Fix\", 'Waiting (Blocked)',  'Waiting for Reporter', 'Waiting For User Input', 'Blocked', 'Waiting for testing', 'Waiting for integration review', 'Waiting for peer review', 'Waiting for peer review', 'Awaiting Release', 'Awaiting Merge', 'Waiting for Feedback', 'Waiting for Review']"
   ]
  },
  {
   "cell_type": "code",
   "execution_count": 15,
   "metadata": {},
   "outputs": [
    {
     "name": "stderr",
     "output_type": "stream",
     "text": [
      "C:\\Users\\Izzath\\AppData\\Local\\Temp\\ipykernel_62976\\622623338.py:3: UserWarning: pandas only supports SQLAlchemy connectable (engine/connection) or database string URI or sqlite3 DBAPI2 connection. Other DBAPI2 objects are not tested. Please consider using SQLAlchemy.\n",
      "  df3 = pd.read_sql_query(\"\"\"SELECT Issue.*, Issue_ID, COUNT(CASE WHEN Change_Log.ID > 0 AND Change_Log.Change_Type=\"PEOPLE\" THEN 1 END) AS Freq FROM Issue LEFT JOIN Change_Log ON Issue.ID = Change_Log.Issue_ID GROUP BY Issue.ID HAVING issue.Project_ID = 1\"\"\", conn)\n"
     ]
    }
   ],
   "source": [
    "import numpy as np\n",
    "# How frequently people assigned to PR changes\n",
    "df3 = pd.read_sql_query(\"\"\"SELECT Issue.*, Issue_ID, COUNT(CASE WHEN Change_Log.ID > 0 AND Change_Log.Change_Type=\"PEOPLE\" THEN 1 END) AS Freq FROM Issue LEFT JOIN Change_Log ON Issue.ID = Change_Log.Issue_ID GROUP BY Issue.ID HAVING issue.Project_ID = 1\"\"\", conn)"
   ]
  },
  {
   "cell_type": "code",
   "execution_count": 20,
   "metadata": {},
   "outputs": [
    {
     "data": {
      "text/html": [
       "<div>\n",
       "<style scoped>\n",
       "    .dataframe tbody tr th:only-of-type {\n",
       "        vertical-align: middle;\n",
       "    }\n",
       "\n",
       "    .dataframe tbody tr th {\n",
       "        vertical-align: top;\n",
       "    }\n",
       "\n",
       "    .dataframe thead th {\n",
       "        text-align: right;\n",
       "    }\n",
       "</style>\n",
       "<table border=\"1\" class=\"dataframe\">\n",
       "  <thead>\n",
       "    <tr style=\"text-align: right;\">\n",
       "      <th></th>\n",
       "      <th>ID</th>\n",
       "      <th>Jira_ID</th>\n",
       "      <th>Issue_Key</th>\n",
       "      <th>URL</th>\n",
       "      <th>Title</th>\n",
       "      <th>Description</th>\n",
       "      <th>Description_Text</th>\n",
       "      <th>Description_Code</th>\n",
       "      <th>Type</th>\n",
       "      <th>Priority</th>\n",
       "      <th>...</th>\n",
       "      <th>Story_Point_Changed_After_Estimation</th>\n",
       "      <th>Pull_Request_URL</th>\n",
       "      <th>Creator_ID</th>\n",
       "      <th>Reporter_ID</th>\n",
       "      <th>Assignee_ID</th>\n",
       "      <th>Project_ID</th>\n",
       "      <th>Sprint_ID</th>\n",
       "      <th>Issue_ID</th>\n",
       "      <th>Freq</th>\n",
       "      <th>Updated Status</th>\n",
       "    </tr>\n",
       "  </thead>\n",
       "  <tbody>\n",
       "    <tr>\n",
       "      <th>0</th>\n",
       "      <td>65</td>\n",
       "      <td>77638</td>\n",
       "      <td>XD-3768</td>\n",
       "      <td>https://jira.spring.io/rest/api/2/issue/77638</td>\n",
       "      <td>\"How do I make a job restartable in spring xd\"</td>\n",
       "      <td>\"The jobs that appear under Executions section...</td>\n",
       "      <td>\"\"\"The jobs that appear under Executions secti...</td>\n",
       "      <td></td>\n",
       "      <td>Bug</td>\n",
       "      <td>Major</td>\n",
       "      <td>...</td>\n",
       "      <td>0</td>\n",
       "      <td></td>\n",
       "      <td>68</td>\n",
       "      <td>68</td>\n",
       "      <td>NaN</td>\n",
       "      <td>1</td>\n",
       "      <td>NaN</td>\n",
       "      <td>NaN</td>\n",
       "      <td>0</td>\n",
       "      <td>in_progress</td>\n",
       "    </tr>\n",
       "    <tr>\n",
       "      <th>1</th>\n",
       "      <td>66</td>\n",
       "      <td>77511</td>\n",
       "      <td>XD-3767</td>\n",
       "      <td>https://jira.spring.io/rest/api/2/issue/77511</td>\n",
       "      <td>\"admin config timezone command does not work\"</td>\n",
       "      <td>\"Working with Spring-XD version 1.3.2.RELEASE ...</td>\n",
       "      <td>\"\"\"Working with Spring-XD version 1.3.2.RELEAS...</td>\n",
       "      <td>\" xd:&gt;admin config admin config info        ad...</td>\n",
       "      <td>Bug</td>\n",
       "      <td>Trivial</td>\n",
       "      <td>...</td>\n",
       "      <td>0</td>\n",
       "      <td></td>\n",
       "      <td>69</td>\n",
       "      <td>69</td>\n",
       "      <td>NaN</td>\n",
       "      <td>1</td>\n",
       "      <td>NaN</td>\n",
       "      <td>NaN</td>\n",
       "      <td>0</td>\n",
       "      <td>in_progress</td>\n",
       "    </tr>\n",
       "    <tr>\n",
       "      <th>2</th>\n",
       "      <td>67</td>\n",
       "      <td>77130</td>\n",
       "      <td>XD-3766</td>\n",
       "      <td>https://jira.spring.io/rest/api/2/issue/77130</td>\n",
       "      <td>\"Module Upload command not pushing jar to all ...</td>\n",
       "      <td>\"My project 7 node cluster and in that 2 node ...</td>\n",
       "      <td>\"\"\"My project 7 node cluster and in that 2 nod...</td>\n",
       "      <td></td>\n",
       "      <td>Bug</td>\n",
       "      <td>Major</td>\n",
       "      <td>...</td>\n",
       "      <td>0</td>\n",
       "      <td></td>\n",
       "      <td>70</td>\n",
       "      <td>70</td>\n",
       "      <td>NaN</td>\n",
       "      <td>1</td>\n",
       "      <td>NaN</td>\n",
       "      <td>NaN</td>\n",
       "      <td>0</td>\n",
       "      <td>in_progress</td>\n",
       "    </tr>\n",
       "    <tr>\n",
       "      <th>3</th>\n",
       "      <td>68</td>\n",
       "      <td>71950</td>\n",
       "      <td>XD-3765</td>\n",
       "      <td>https://jira.spring.io/rest/api/2/issue/71950</td>\n",
       "      <td>\"Fix stream failover \"</td>\n",
       "      <td>\"See https://github.com/spring-projects/spring...</td>\n",
       "      <td>\"\"\"See https://github.com/spring-projects/spri...</td>\n",
       "      <td></td>\n",
       "      <td>Story</td>\n",
       "      <td>Minor</td>\n",
       "      <td>...</td>\n",
       "      <td>0</td>\n",
       "      <td></td>\n",
       "      <td>72</td>\n",
       "      <td>72</td>\n",
       "      <td>71.0</td>\n",
       "      <td>1</td>\n",
       "      <td>NaN</td>\n",
       "      <td>68.0</td>\n",
       "      <td>0</td>\n",
       "      <td>completed</td>\n",
       "    </tr>\n",
       "    <tr>\n",
       "      <th>4</th>\n",
       "      <td>69</td>\n",
       "      <td>71805</td>\n",
       "      <td>XD-3764</td>\n",
       "      <td>https://jira.spring.io/rest/api/2/issue/71805</td>\n",
       "      <td>\"SpringXD Job is still executing even after fo...</td>\n",
       "      <td>\"I'm trying to run a Job on SpringXD and the j...</td>\n",
       "      <td>\"\"\"I'm trying to run a Job on SpringXD and the...</td>\n",
       "      <td></td>\n",
       "      <td>Bug</td>\n",
       "      <td>Major</td>\n",
       "      <td>...</td>\n",
       "      <td>0</td>\n",
       "      <td></td>\n",
       "      <td>73</td>\n",
       "      <td>73</td>\n",
       "      <td>NaN</td>\n",
       "      <td>1</td>\n",
       "      <td>NaN</td>\n",
       "      <td>NaN</td>\n",
       "      <td>0</td>\n",
       "      <td>in_progress</td>\n",
       "    </tr>\n",
       "    <tr>\n",
       "      <th>...</th>\n",
       "      <td>...</td>\n",
       "      <td>...</td>\n",
       "      <td>...</td>\n",
       "      <td>...</td>\n",
       "      <td>...</td>\n",
       "      <td>...</td>\n",
       "      <td>...</td>\n",
       "      <td>...</td>\n",
       "      <td>...</td>\n",
       "      <td>...</td>\n",
       "      <td>...</td>\n",
       "      <td>...</td>\n",
       "      <td>...</td>\n",
       "      <td>...</td>\n",
       "      <td>...</td>\n",
       "      <td>...</td>\n",
       "      <td>...</td>\n",
       "      <td>...</td>\n",
       "      <td>...</td>\n",
       "      <td>...</td>\n",
       "      <td>...</td>\n",
       "    </tr>\n",
       "    <tr>\n",
       "      <th>3702</th>\n",
       "      <td>3770</td>\n",
       "      <td>48120</td>\n",
       "      <td>XD-2</td>\n",
       "      <td>https://jira.spring.io/rest/api/2/issue/48120</td>\n",
       "      <td>\"HDFS Core writing helper classes\"</td>\n",
       "      <td>\"Simple file writer that has existed in the sp...</td>\n",
       "      <td>\"\"\"Simple file writer that has existed in the ...</td>\n",
       "      <td></td>\n",
       "      <td>Story</td>\n",
       "      <td>Minor</td>\n",
       "      <td>...</td>\n",
       "      <td>0</td>\n",
       "      <td></td>\n",
       "      <td>72</td>\n",
       "      <td>72</td>\n",
       "      <td>72.0</td>\n",
       "      <td>1</td>\n",
       "      <td>NaN</td>\n",
       "      <td>3770.0</td>\n",
       "      <td>0</td>\n",
       "      <td>completed</td>\n",
       "    </tr>\n",
       "    <tr>\n",
       "      <th>3703</th>\n",
       "      <td>3771</td>\n",
       "      <td>48119</td>\n",
       "      <td>XD-1</td>\n",
       "      <td>https://jira.spring.io/rest/api/2/issue/48119</td>\n",
       "      <td>\"HDFS ItemWriter\"</td>\n",
       "      <td>\"Base integration of core HDFS writer function...</td>\n",
       "      <td>\"\"\"Base integration of core HDFS writer functi...</td>\n",
       "      <td></td>\n",
       "      <td>Story</td>\n",
       "      <td>Minor</td>\n",
       "      <td>...</td>\n",
       "      <td>0</td>\n",
       "      <td></td>\n",
       "      <td>72</td>\n",
       "      <td>72</td>\n",
       "      <td>107.0</td>\n",
       "      <td>1</td>\n",
       "      <td>65.0</td>\n",
       "      <td>3771.0</td>\n",
       "      <td>1</td>\n",
       "      <td>completed</td>\n",
       "    </tr>\n",
       "    <tr>\n",
       "      <th>3704</th>\n",
       "      <td>3773</td>\n",
       "      <td>83061</td>\n",
       "      <td>XD-3769</td>\n",
       "      <td>https://jira.spring.io/rest/api/2/issue/83061</td>\n",
       "      <td>\"Upgrade to Spring Boot 2.1.0\"</td>\n",
       "      <td>\"We tried upgrading from Spring Boot 2.0.6 to ...</td>\n",
       "      <td>\"\"\"We tried upgrading from Spring Boot 2.0.6 t...</td>\n",
       "      <td></td>\n",
       "      <td>Bug</td>\n",
       "      <td>Blocker</td>\n",
       "      <td>...</td>\n",
       "      <td>0</td>\n",
       "      <td></td>\n",
       "      <td>256</td>\n",
       "      <td>256</td>\n",
       "      <td>NaN</td>\n",
       "      <td>1</td>\n",
       "      <td>NaN</td>\n",
       "      <td>3773.0</td>\n",
       "      <td>0</td>\n",
       "      <td>in_progress</td>\n",
       "    </tr>\n",
       "    <tr>\n",
       "      <th>3705</th>\n",
       "      <td>3774</td>\n",
       "      <td>60674</td>\n",
       "      <td>XD-2355</td>\n",
       "      <td>https://jira.spring.io/rest/api/2/issue/60674</td>\n",
       "      <td>\"xd-singlenode --verbose prints configuration ...</td>\n",
       "      <td>\"If you start xd-singlenode with the --verbose...</td>\n",
       "      <td>\"\"\"If you start xd-singlenode with the --verbo...</td>\n",
       "      <td>\"   _____                           __   _____...</td>\n",
       "      <td>Bug</td>\n",
       "      <td>Minor</td>\n",
       "      <td>...</td>\n",
       "      <td>1</td>\n",
       "      <td></td>\n",
       "      <td>149</td>\n",
       "      <td>149</td>\n",
       "      <td>91.0</td>\n",
       "      <td>1</td>\n",
       "      <td>17.0</td>\n",
       "      <td>3774.0</td>\n",
       "      <td>1</td>\n",
       "      <td>completed</td>\n",
       "    </tr>\n",
       "    <tr>\n",
       "      <th>3706</th>\n",
       "      <td>3775</td>\n",
       "      <td>50944</td>\n",
       "      <td>XD-863</td>\n",
       "      <td>https://jira.spring.io/rest/api/2/issue/50944</td>\n",
       "      <td>\"Serialization of Spring Batch Context Objects\"</td>\n",
       "      <td>\"Needs some investigation on how the update in...</td>\n",
       "      <td>\"\"\"Needs some investigation on how the update ...</td>\n",
       "      <td></td>\n",
       "      <td>Story</td>\n",
       "      <td>Minor</td>\n",
       "      <td>...</td>\n",
       "      <td>0</td>\n",
       "      <td></td>\n",
       "      <td>72</td>\n",
       "      <td>72</td>\n",
       "      <td>93.0</td>\n",
       "      <td>1</td>\n",
       "      <td>51.0</td>\n",
       "      <td>3775.0</td>\n",
       "      <td>1</td>\n",
       "      <td>completed</td>\n",
       "    </tr>\n",
       "  </tbody>\n",
       "</table>\n",
       "<p>3707 rows × 33 columns</p>\n",
       "</div>"
      ],
      "text/plain": [
       "        ID  Jira_ID Issue_Key                                            URL  \\\n",
       "0       65    77638   XD-3768  https://jira.spring.io/rest/api/2/issue/77638   \n",
       "1       66    77511   XD-3767  https://jira.spring.io/rest/api/2/issue/77511   \n",
       "2       67    77130   XD-3766  https://jira.spring.io/rest/api/2/issue/77130   \n",
       "3       68    71950   XD-3765  https://jira.spring.io/rest/api/2/issue/71950   \n",
       "4       69    71805   XD-3764  https://jira.spring.io/rest/api/2/issue/71805   \n",
       "...    ...      ...       ...                                            ...   \n",
       "3702  3770    48120      XD-2  https://jira.spring.io/rest/api/2/issue/48120   \n",
       "3703  3771    48119      XD-1  https://jira.spring.io/rest/api/2/issue/48119   \n",
       "3704  3773    83061   XD-3769  https://jira.spring.io/rest/api/2/issue/83061   \n",
       "3705  3774    60674   XD-2355  https://jira.spring.io/rest/api/2/issue/60674   \n",
       "3706  3775    50944    XD-863  https://jira.spring.io/rest/api/2/issue/50944   \n",
       "\n",
       "                                                  Title  \\\n",
       "0        \"How do I make a job restartable in spring xd\"   \n",
       "1         \"admin config timezone command does not work\"   \n",
       "2     \"Module Upload command not pushing jar to all ...   \n",
       "3                                \"Fix stream failover \"   \n",
       "4     \"SpringXD Job is still executing even after fo...   \n",
       "...                                                 ...   \n",
       "3702                 \"HDFS Core writing helper classes\"   \n",
       "3703                                  \"HDFS ItemWriter\"   \n",
       "3704                     \"Upgrade to Spring Boot 2.1.0\"   \n",
       "3705  \"xd-singlenode --verbose prints configuration ...   \n",
       "3706    \"Serialization of Spring Batch Context Objects\"   \n",
       "\n",
       "                                            Description  \\\n",
       "0     \"The jobs that appear under Executions section...   \n",
       "1     \"Working with Spring-XD version 1.3.2.RELEASE ...   \n",
       "2     \"My project 7 node cluster and in that 2 node ...   \n",
       "3     \"See https://github.com/spring-projects/spring...   \n",
       "4     \"I'm trying to run a Job on SpringXD and the j...   \n",
       "...                                                 ...   \n",
       "3702  \"Simple file writer that has existed in the sp...   \n",
       "3703  \"Base integration of core HDFS writer function...   \n",
       "3704  \"We tried upgrading from Spring Boot 2.0.6 to ...   \n",
       "3705  \"If you start xd-singlenode with the --verbose...   \n",
       "3706  \"Needs some investigation on how the update in...   \n",
       "\n",
       "                                       Description_Text  \\\n",
       "0     \"\"\"The jobs that appear under Executions secti...   \n",
       "1     \"\"\"Working with Spring-XD version 1.3.2.RELEAS...   \n",
       "2     \"\"\"My project 7 node cluster and in that 2 nod...   \n",
       "3     \"\"\"See https://github.com/spring-projects/spri...   \n",
       "4     \"\"\"I'm trying to run a Job on SpringXD and the...   \n",
       "...                                                 ...   \n",
       "3702  \"\"\"Simple file writer that has existed in the ...   \n",
       "3703  \"\"\"Base integration of core HDFS writer functi...   \n",
       "3704  \"\"\"We tried upgrading from Spring Boot 2.0.6 t...   \n",
       "3705  \"\"\"If you start xd-singlenode with the --verbo...   \n",
       "3706  \"\"\"Needs some investigation on how the update ...   \n",
       "\n",
       "                                       Description_Code   Type Priority  ...  \\\n",
       "0                                                          Bug    Major  ...   \n",
       "1     \" xd:>admin config admin config info        ad...    Bug  Trivial  ...   \n",
       "2                                                          Bug    Major  ...   \n",
       "3                                                        Story    Minor  ...   \n",
       "4                                                          Bug    Major  ...   \n",
       "...                                                 ...    ...      ...  ...   \n",
       "3702                                                     Story    Minor  ...   \n",
       "3703                                                     Story    Minor  ...   \n",
       "3704                                                       Bug  Blocker  ...   \n",
       "3705  \"   _____                           __   _____...    Bug    Minor  ...   \n",
       "3706                                                     Story    Minor  ...   \n",
       "\n",
       "     Story_Point_Changed_After_Estimation Pull_Request_URL Creator_ID  \\\n",
       "0                                       0                          68   \n",
       "1                                       0                          69   \n",
       "2                                       0                          70   \n",
       "3                                       0                          72   \n",
       "4                                       0                          73   \n",
       "...                                   ...              ...        ...   \n",
       "3702                                    0                          72   \n",
       "3703                                    0                          72   \n",
       "3704                                    0                         256   \n",
       "3705                                    1                         149   \n",
       "3706                                    0                          72   \n",
       "\n",
       "     Reporter_ID Assignee_ID Project_ID  Sprint_ID  Issue_ID  Freq  \\\n",
       "0             68         NaN          1        NaN       NaN     0   \n",
       "1             69         NaN          1        NaN       NaN     0   \n",
       "2             70         NaN          1        NaN       NaN     0   \n",
       "3             72        71.0          1        NaN      68.0     0   \n",
       "4             73         NaN          1        NaN       NaN     0   \n",
       "...          ...         ...        ...        ...       ...   ...   \n",
       "3702          72        72.0          1        NaN    3770.0     0   \n",
       "3703          72       107.0          1       65.0    3771.0     1   \n",
       "3704         256         NaN          1        NaN    3773.0     0   \n",
       "3705         149        91.0          1       17.0    3774.0     1   \n",
       "3706          72        93.0          1       51.0    3775.0     1   \n",
       "\n",
       "      Updated Status  \n",
       "0        in_progress  \n",
       "1        in_progress  \n",
       "2        in_progress  \n",
       "3          completed  \n",
       "4        in_progress  \n",
       "...              ...  \n",
       "3702       completed  \n",
       "3703       completed  \n",
       "3704     in_progress  \n",
       "3705       completed  \n",
       "3706       completed  \n",
       "\n",
       "[3707 rows x 33 columns]"
      ]
     },
     "execution_count": 20,
     "metadata": {},
     "output_type": "execute_result"
    }
   ],
   "source": [
    "def add_updated_status(row):\n",
    "    if row['Status'] in completed:\n",
    "        return \"completed\"\n",
    "    elif row[\"Status\"] in in_progress:\n",
    "        return \"in_progress\"\n",
    "    else:\n",
    "        return \"blocked\"\n",
    "\n",
    "df3['Updated Status'] = df3.apply(add_updated_status, axis=1)\n",
    "df3"
   ]
  },
  {
   "cell_type": "code",
   "execution_count": 32,
   "metadata": {},
   "outputs": [
    {
     "name": "stderr",
     "output_type": "stream",
     "text": [
      "C:\\Users\\Izzath\\AppData\\Local\\Temp\\ipykernel_62976\\3153529079.py:29: UserWarning: pandas only supports SQLAlchemy connectable (engine/connection) or database string URI or sqlite3 DBAPI2 connection. Other DBAPI2 objects are not tested. Please consider using SQLAlchemy.\n",
      "  df = pd.read_sql_query(\"SELECT ID, Name FROM Project\", conn)\n",
      "C:\\Users\\Izzath\\AppData\\Local\\Temp\\ipykernel_62976\\3153529079.py:35: UserWarning: pandas only supports SQLAlchemy connectable (engine/connection) or database string URI or sqlite3 DBAPI2 connection. Other DBAPI2 objects are not tested. Please consider using SQLAlchemy.\n",
      "  df = pd.read_sql_query(sql_query, conn)\n"
     ]
    },
    {
     "name": "stdout",
     "output_type": "stream",
     "text": [
      "Spring XD Analysis\n"
     ]
    },
    {
     "name": "stderr",
     "output_type": "stream",
     "text": [
      "C:\\Users\\Izzath\\AppData\\Local\\Temp\\ipykernel_62976\\3153529079.py:35: UserWarning: pandas only supports SQLAlchemy connectable (engine/connection) or database string URI or sqlite3 DBAPI2 connection. Other DBAPI2 objects are not tested. Please consider using SQLAlchemy.\n",
      "  df = pd.read_sql_query(sql_query, conn)\n"
     ]
    },
    {
     "name": "stdout",
     "output_type": "stream",
     "text": [
      "Spring DataCass Analysis\n"
     ]
    },
    {
     "name": "stderr",
     "output_type": "stream",
     "text": [
      "C:\\Users\\Izzath\\AppData\\Local\\Temp\\ipykernel_62976\\3153529079.py:35: UserWarning: pandas only supports SQLAlchemy connectable (engine/connection) or database string URI or sqlite3 DBAPI2 connection. Other DBAPI2 objects are not tested. Please consider using SQLAlchemy.\n",
      "  df = pd.read_sql_query(sql_query, conn)\n"
     ]
    },
    {
     "name": "stdout",
     "output_type": "stream",
     "text": [
      "Sonatype Nexus Analysis\n"
     ]
    },
    {
     "name": "stderr",
     "output_type": "stream",
     "text": [
      "C:\\Users\\Izzath\\AppData\\Local\\Temp\\ipykernel_62976\\3153529079.py:35: UserWarning: pandas only supports SQLAlchemy connectable (engine/connection) or database string URI or sqlite3 DBAPI2 connection. Other DBAPI2 objects are not tested. Please consider using SQLAlchemy.\n",
      "  df = pd.read_sql_query(sql_query, conn)\n"
     ]
    },
    {
     "name": "stdout",
     "output_type": "stream",
     "text": [
      "Apache Mesos Analysis\n"
     ]
    },
    {
     "name": "stderr",
     "output_type": "stream",
     "text": [
      "C:\\Users\\Izzath\\AppData\\Local\\Temp\\ipykernel_62976\\3153529079.py:35: UserWarning: pandas only supports SQLAlchemy connectable (engine/connection) or database string URI or sqlite3 DBAPI2 connection. Other DBAPI2 objects are not tested. Please consider using SQLAlchemy.\n",
      "  df = pd.read_sql_query(sql_query, conn)\n"
     ]
    },
    {
     "name": "stdout",
     "output_type": "stream",
     "text": [
      "Apache Usergrid Analysis\n"
     ]
    },
    {
     "name": "stderr",
     "output_type": "stream",
     "text": [
      "C:\\Users\\Izzath\\AppData\\Local\\Temp\\ipykernel_62976\\3153529079.py:35: UserWarning: pandas only supports SQLAlchemy connectable (engine/connection) or database string URI or sqlite3 DBAPI2 connection. Other DBAPI2 objects are not tested. Please consider using SQLAlchemy.\n",
      "  df = pd.read_sql_query(sql_query, conn)\n"
     ]
    },
    {
     "name": "stdout",
     "output_type": "stream",
     "text": [
      "Apache MXNet Analysis\n"
     ]
    },
    {
     "name": "stderr",
     "output_type": "stream",
     "text": [
      "C:\\Users\\Izzath\\AppData\\Local\\Temp\\ipykernel_62976\\3153529079.py:35: UserWarning: pandas only supports SQLAlchemy connectable (engine/connection) or database string URI or sqlite3 DBAPI2 connection. Other DBAPI2 objects are not tested. Please consider using SQLAlchemy.\n",
      "  df = pd.read_sql_query(sql_query, conn)\n"
     ]
    },
    {
     "name": "stdout",
     "output_type": "stream",
     "text": [
      "Alloy Framework Analysis\n"
     ]
    },
    {
     "name": "stderr",
     "output_type": "stream",
     "text": [
      "C:\\Users\\Izzath\\AppData\\Local\\Temp\\ipykernel_62976\\3153529079.py:35: UserWarning: pandas only supports SQLAlchemy connectable (engine/connection) or database string URI or sqlite3 DBAPI2 connection. Other DBAPI2 objects are not tested. Please consider using SQLAlchemy.\n",
      "  df = pd.read_sql_query(sql_query, conn)\n"
     ]
    },
    {
     "name": "stdout",
     "output_type": "stream",
     "text": [
      "Aptana Studio Analysis\n"
     ]
    },
    {
     "name": "stderr",
     "output_type": "stream",
     "text": [
      "C:\\Users\\Izzath\\AppData\\Local\\Temp\\ipykernel_62976\\3153529079.py:35: UserWarning: pandas only supports SQLAlchemy connectable (engine/connection) or database string URI or sqlite3 DBAPI2 connection. Other DBAPI2 objects are not tested. Please consider using SQLAlchemy.\n",
      "  df = pd.read_sql_query(sql_query, conn)\n"
     ]
    },
    {
     "name": "stdout",
     "output_type": "stream",
     "text": [
      "Command-Line Interface Analysis\n"
     ]
    },
    {
     "name": "stderr",
     "output_type": "stream",
     "text": [
      "C:\\Users\\Izzath\\AppData\\Local\\Temp\\ipykernel_62976\\3153529079.py:35: UserWarning: pandas only supports SQLAlchemy connectable (engine/connection) or database string URI or sqlite3 DBAPI2 connection. Other DBAPI2 objects are not tested. Please consider using SQLAlchemy.\n",
      "  df = pd.read_sql_query(sql_query, conn)\n"
     ]
    },
    {
     "name": "stdout",
     "output_type": "stream",
     "text": [
      "Appcelerator Daemon Analysis\n"
     ]
    },
    {
     "name": "stderr",
     "output_type": "stream",
     "text": [
      "C:\\Users\\Izzath\\AppData\\Local\\Temp\\ipykernel_62976\\3153529079.py:35: UserWarning: pandas only supports SQLAlchemy connectable (engine/connection) or database string URI or sqlite3 DBAPI2 connection. Other DBAPI2 objects are not tested. Please consider using SQLAlchemy.\n",
      "  df = pd.read_sql_query(sql_query, conn)\n"
     ]
    },
    {
     "name": "stdout",
     "output_type": "stream",
     "text": [
      "Titanium Mobile Platform Analysis\n"
     ]
    },
    {
     "name": "stderr",
     "output_type": "stream",
     "text": [
      "C:\\Users\\Izzath\\AppData\\Local\\Temp\\ipykernel_62976\\3153529079.py:35: UserWarning: pandas only supports SQLAlchemy connectable (engine/connection) or database string URI or sqlite3 DBAPI2 connection. Other DBAPI2 objects are not tested. Please consider using SQLAlchemy.\n",
      "  df = pd.read_sql_query(sql_query, conn)\n"
     ]
    },
    {
     "name": "stdout",
     "output_type": "stream",
     "text": [
      "The Titanium SDK  Analysis\n"
     ]
    },
    {
     "name": "stderr",
     "output_type": "stream",
     "text": [
      "C:\\Users\\Izzath\\AppData\\Local\\Temp\\ipykernel_62976\\3153529079.py:35: UserWarning: pandas only supports SQLAlchemy connectable (engine/connection) or database string URI or sqlite3 DBAPI2 connection. Other DBAPI2 objects are not tested. Please consider using SQLAlchemy.\n",
      "  df = pd.read_sql_query(sql_query, conn)\n"
     ]
    },
    {
     "name": "stdout",
     "output_type": "stream",
     "text": [
      "Appcelerator Studio Analysis\n"
     ]
    },
    {
     "name": "stderr",
     "output_type": "stream",
     "text": [
      "C:\\Users\\Izzath\\AppData\\Local\\Temp\\ipykernel_62976\\3153529079.py:35: UserWarning: pandas only supports SQLAlchemy connectable (engine/connection) or database string URI or sqlite3 DBAPI2 connection. Other DBAPI2 objects are not tested. Please consider using SQLAlchemy.\n",
      "  df = pd.read_sql_query(sql_query, conn)\n"
     ]
    },
    {
     "name": "stdout",
     "output_type": "stream",
     "text": [
      "Atlassian Bamboo  Analysis\n"
     ]
    },
    {
     "name": "stderr",
     "output_type": "stream",
     "text": [
      "C:\\Users\\Izzath\\AppData\\Local\\Temp\\ipykernel_62976\\3153529079.py:35: UserWarning: pandas only supports SQLAlchemy connectable (engine/connection) or database string URI or sqlite3 DBAPI2 connection. Other DBAPI2 objects are not tested. Please consider using SQLAlchemy.\n",
      "  df = pd.read_sql_query(sql_query, conn)\n"
     ]
    },
    {
     "name": "stdout",
     "output_type": "stream",
     "text": [
      "Atlassian Clover Analysis\n"
     ]
    },
    {
     "name": "stderr",
     "output_type": "stream",
     "text": [
      "C:\\Users\\Izzath\\AppData\\Local\\Temp\\ipykernel_62976\\3153529079.py:35: UserWarning: pandas only supports SQLAlchemy connectable (engine/connection) or database string URI or sqlite3 DBAPI2 connection. Other DBAPI2 objects are not tested. Please consider using SQLAlchemy.\n",
      "  df = pd.read_sql_query(sql_query, conn)\n"
     ]
    },
    {
     "name": "stdout",
     "output_type": "stream",
     "text": [
      "Atlassian Crowd Analysis\n"
     ]
    },
    {
     "name": "stderr",
     "output_type": "stream",
     "text": [
      "C:\\Users\\Izzath\\AppData\\Local\\Temp\\ipykernel_62976\\3153529079.py:35: UserWarning: pandas only supports SQLAlchemy connectable (engine/connection) or database string URI or sqlite3 DBAPI2 connection. Other DBAPI2 objects are not tested. Please consider using SQLAlchemy.\n",
      "  df = pd.read_sql_query(sql_query, conn)\n"
     ]
    },
    {
     "name": "stdout",
     "output_type": "stream",
     "text": [
      "Atlassian FishEye Analysis\n"
     ]
    },
    {
     "name": "stderr",
     "output_type": "stream",
     "text": [
      "C:\\Users\\Izzath\\AppData\\Local\\Temp\\ipykernel_62976\\3153529079.py:35: UserWarning: pandas only supports SQLAlchemy connectable (engine/connection) or database string URI or sqlite3 DBAPI2 connection. Other DBAPI2 objects are not tested. Please consider using SQLAlchemy.\n",
      "  df = pd.read_sql_query(sql_query, conn)\n"
     ]
    },
    {
     "name": "stdout",
     "output_type": "stream",
     "text": [
      "Atlassian Jira Server Analysis\n"
     ]
    },
    {
     "name": "stderr",
     "output_type": "stream",
     "text": [
      "C:\\Users\\Izzath\\AppData\\Local\\Temp\\ipykernel_62976\\3153529079.py:35: UserWarning: pandas only supports SQLAlchemy connectable (engine/connection) or database string URI or sqlite3 DBAPI2 connection. Other DBAPI2 objects are not tested. Please consider using SQLAlchemy.\n",
      "  df = pd.read_sql_query(sql_query, conn)\n"
     ]
    },
    {
     "name": "stdout",
     "output_type": "stream",
     "text": [
      "Atlassian Software Cloud Analysis\n"
     ]
    },
    {
     "name": "stderr",
     "output_type": "stream",
     "text": [
      "C:\\Users\\Izzath\\AppData\\Local\\Temp\\ipykernel_62976\\3153529079.py:35: UserWarning: pandas only supports SQLAlchemy connectable (engine/connection) or database string URI or sqlite3 DBAPI2 connection. Other DBAPI2 objects are not tested. Please consider using SQLAlchemy.\n",
      "  df = pd.read_sql_query(sql_query, conn)\n"
     ]
    },
    {
     "name": "stdout",
     "output_type": "stream",
     "text": [
      "Atlassian Atlassian Software Server Analysis\n"
     ]
    },
    {
     "name": "stderr",
     "output_type": "stream",
     "text": [
      "C:\\Users\\Izzath\\AppData\\Local\\Temp\\ipykernel_62976\\3153529079.py:35: UserWarning: pandas only supports SQLAlchemy connectable (engine/connection) or database string URI or sqlite3 DBAPI2 connection. Other DBAPI2 objects are not tested. Please consider using SQLAlchemy.\n",
      "  df = pd.read_sql_query(sql_query, conn)\n"
     ]
    },
    {
     "name": "stdout",
     "output_type": "stream",
     "text": [
      "Atlassian Confluence Cloud Analysis\n"
     ]
    },
    {
     "name": "stderr",
     "output_type": "stream",
     "text": [
      "C:\\Users\\Izzath\\AppData\\Local\\Temp\\ipykernel_62976\\3153529079.py:35: UserWarning: pandas only supports SQLAlchemy connectable (engine/connection) or database string URI or sqlite3 DBAPI2 connection. Other DBAPI2 objects are not tested. Please consider using SQLAlchemy.\n",
      "  df = pd.read_sql_query(sql_query, conn)\n"
     ]
    },
    {
     "name": "stdout",
     "output_type": "stream",
     "text": [
      "Atlassian Confluence Server Analysis\n"
     ]
    },
    {
     "name": "stderr",
     "output_type": "stream",
     "text": [
      "C:\\Users\\Izzath\\AppData\\Local\\Temp\\ipykernel_62976\\3153529079.py:35: UserWarning: pandas only supports SQLAlchemy connectable (engine/connection) or database string URI or sqlite3 DBAPI2 connection. Other DBAPI2 objects are not tested. Please consider using SQLAlchemy.\n",
      "  df = pd.read_sql_query(sql_query, conn)\n"
     ]
    },
    {
     "name": "stdout",
     "output_type": "stream",
     "text": [
      "Hyperledger Blockchain Explorer Analysis\n"
     ]
    },
    {
     "name": "stderr",
     "output_type": "stream",
     "text": [
      "C:\\Users\\Izzath\\AppData\\Local\\Temp\\ipykernel_62976\\3153529079.py:35: UserWarning: pandas only supports SQLAlchemy connectable (engine/connection) or database string URI or sqlite3 DBAPI2 connection. Other DBAPI2 objects are not tested. Please consider using SQLAlchemy.\n",
      "  df = pd.read_sql_query(sql_query, conn)\n"
     ]
    },
    {
     "name": "stdout",
     "output_type": "stream",
     "text": [
      "Hyperledger Fabric Analysis\n"
     ]
    },
    {
     "name": "stderr",
     "output_type": "stream",
     "text": [
      "C:\\Users\\Izzath\\AppData\\Local\\Temp\\ipykernel_62976\\3153529079.py:35: UserWarning: pandas only supports SQLAlchemy connectable (engine/connection) or database string URI or sqlite3 DBAPI2 connection. Other DBAPI2 objects are not tested. Please consider using SQLAlchemy.\n",
      "  df = pd.read_sql_query(sql_query, conn)\n"
     ]
    },
    {
     "name": "stdout",
     "output_type": "stream",
     "text": [
      "Hyperledger Indy Node Analysis\n"
     ]
    },
    {
     "name": "stderr",
     "output_type": "stream",
     "text": [
      "C:\\Users\\Izzath\\AppData\\Local\\Temp\\ipykernel_62976\\3153529079.py:35: UserWarning: pandas only supports SQLAlchemy connectable (engine/connection) or database string URI or sqlite3 DBAPI2 connection. Other DBAPI2 objects are not tested. Please consider using SQLAlchemy.\n",
      "  df = pd.read_sql_query(sql_query, conn)\n"
     ]
    },
    {
     "name": "stdout",
     "output_type": "stream",
     "text": [
      "Hyperledger Indy SDK Analysis\n"
     ]
    },
    {
     "name": "stderr",
     "output_type": "stream",
     "text": [
      "C:\\Users\\Izzath\\AppData\\Local\\Temp\\ipykernel_62976\\3153529079.py:35: UserWarning: pandas only supports SQLAlchemy connectable (engine/connection) or database string URI or sqlite3 DBAPI2 connection. Other DBAPI2 objects are not tested. Please consider using SQLAlchemy.\n",
      "  df = pd.read_sql_query(sql_query, conn)\n"
     ]
    },
    {
     "name": "stdout",
     "output_type": "stream",
     "text": [
      "Hyperledger Sawtooth Analysis\n"
     ]
    },
    {
     "name": "stderr",
     "output_type": "stream",
     "text": [
      "C:\\Users\\Izzath\\AppData\\Local\\Temp\\ipykernel_62976\\3153529079.py:35: UserWarning: pandas only supports SQLAlchemy connectable (engine/connection) or database string URI or sqlite3 DBAPI2 connection. Other DBAPI2 objects are not tested. Please consider using SQLAlchemy.\n",
      "  df = pd.read_sql_query(sql_query, conn)\n"
     ]
    },
    {
     "name": "stdout",
     "output_type": "stream",
     "text": [
      "Lsstcorp Data management Analysis\n"
     ]
    },
    {
     "name": "stderr",
     "output_type": "stream",
     "text": [
      "C:\\Users\\Izzath\\AppData\\Local\\Temp\\ipykernel_62976\\3153529079.py:35: UserWarning: pandas only supports SQLAlchemy connectable (engine/connection) or database string URI or sqlite3 DBAPI2 connection. Other DBAPI2 objects are not tested. Please consider using SQLAlchemy.\n",
      "  df = pd.read_sql_query(sql_query, conn)\n"
     ]
    },
    {
     "name": "stdout",
     "output_type": "stream",
     "text": [
      "Lyrasis Dura Cloud Analysis\n"
     ]
    },
    {
     "name": "stderr",
     "output_type": "stream",
     "text": [
      "C:\\Users\\Izzath\\AppData\\Local\\Temp\\ipykernel_62976\\3153529079.py:35: UserWarning: pandas only supports SQLAlchemy connectable (engine/connection) or database string URI or sqlite3 DBAPI2 connection. Other DBAPI2 objects are not tested. Please consider using SQLAlchemy.\n",
      "  df = pd.read_sql_query(sql_query, conn)\n"
     ]
    },
    {
     "name": "stdout",
     "output_type": "stream",
     "text": [
      "MongoDB Compass  Analysis\n"
     ]
    },
    {
     "name": "stderr",
     "output_type": "stream",
     "text": [
      "C:\\Users\\Izzath\\AppData\\Local\\Temp\\ipykernel_62976\\3153529079.py:35: UserWarning: pandas only supports SQLAlchemy connectable (engine/connection) or database string URI or sqlite3 DBAPI2 connection. Other DBAPI2 objects are not tested. Please consider using SQLAlchemy.\n",
      "  df = pd.read_sql_query(sql_query, conn)\n"
     ]
    },
    {
     "name": "stdout",
     "output_type": "stream",
     "text": [
      "The Mongo C++ driver Analysis\n"
     ]
    },
    {
     "name": "stderr",
     "output_type": "stream",
     "text": [
      "C:\\Users\\Izzath\\AppData\\Local\\Temp\\ipykernel_62976\\3153529079.py:35: UserWarning: pandas only supports SQLAlchemy connectable (engine/connection) or database string URI or sqlite3 DBAPI2 connection. Other DBAPI2 objects are not tested. Please consider using SQLAlchemy.\n",
      "  df = pd.read_sql_query(sql_query, conn)\n"
     ]
    },
    {
     "name": "stdout",
     "output_type": "stream",
     "text": [
      "The Mongo Java driver Analysis\n"
     ]
    },
    {
     "name": "stderr",
     "output_type": "stream",
     "text": [
      "C:\\Users\\Izzath\\AppData\\Local\\Temp\\ipykernel_62976\\3153529079.py:35: UserWarning: pandas only supports SQLAlchemy connectable (engine/connection) or database string URI or sqlite3 DBAPI2 connection. Other DBAPI2 objects are not tested. Please consider using SQLAlchemy.\n",
      "  df = pd.read_sql_query(sql_query, conn)\n"
     ]
    },
    {
     "name": "stdout",
     "output_type": "stream",
     "text": [
      "MongoDB Core Server Analysis\n"
     ]
    },
    {
     "name": "stderr",
     "output_type": "stream",
     "text": [
      "C:\\Users\\Izzath\\AppData\\Local\\Temp\\ipykernel_62976\\3153529079.py:35: UserWarning: pandas only supports SQLAlchemy connectable (engine/connection) or database string URI or sqlite3 DBAPI2 connection. Other DBAPI2 objects are not tested. Please consider using SQLAlchemy.\n",
      "  df = pd.read_sql_query(sql_query, conn)\n"
     ]
    },
    {
     "name": "stdout",
     "output_type": "stream",
     "text": [
      "Moodle Analysis\n"
     ]
    },
    {
     "name": "stderr",
     "output_type": "stream",
     "text": [
      "C:\\Users\\Izzath\\AppData\\Local\\Temp\\ipykernel_62976\\3153529079.py:35: UserWarning: pandas only supports SQLAlchemy connectable (engine/connection) or database string URI or sqlite3 DBAPI2 connection. Other DBAPI2 objects are not tested. Please consider using SQLAlchemy.\n",
      "  df = pd.read_sql_query(sql_query, conn)\n"
     ]
    },
    {
     "name": "stdout",
     "output_type": "stream",
     "text": [
      "Mule APIkit Analysis\n"
     ]
    },
    {
     "name": "stderr",
     "output_type": "stream",
     "text": [
      "C:\\Users\\Izzath\\AppData\\Local\\Temp\\ipykernel_62976\\3153529079.py:35: UserWarning: pandas only supports SQLAlchemy connectable (engine/connection) or database string URI or sqlite3 DBAPI2 connection. Other DBAPI2 objects are not tested. Please consider using SQLAlchemy.\n",
      "  df = pd.read_sql_query(sql_query, conn)\n"
     ]
    },
    {
     "name": "stdout",
     "output_type": "stream",
     "text": [
      "Mule Analysis\n"
     ]
    },
    {
     "name": "stderr",
     "output_type": "stream",
     "text": [
      "C:\\Users\\Izzath\\AppData\\Local\\Temp\\ipykernel_62976\\3153529079.py:35: UserWarning: pandas only supports SQLAlchemy connectable (engine/connection) or database string URI or sqlite3 DBAPI2 connection. Other DBAPI2 objects are not tested. Please consider using SQLAlchemy.\n",
      "  df = pd.read_sql_query(sql_query, conn)\n"
     ]
    },
    {
     "name": "stdout",
     "output_type": "stream",
     "text": [
      "DotNetNuke Platform Analysis\n"
     ]
    },
    {
     "name": "stderr",
     "output_type": "stream",
     "text": [
      "C:\\Users\\Izzath\\AppData\\Local\\Temp\\ipykernel_62976\\3153529079.py:35: UserWarning: pandas only supports SQLAlchemy connectable (engine/connection) or database string URI or sqlite3 DBAPI2 connection. Other DBAPI2 objects are not tested. Please consider using SQLAlchemy.\n",
      "  df = pd.read_sql_query(sql_query, conn)\n"
     ]
    },
    {
     "name": "stdout",
     "output_type": "stream",
     "text": [
      "The MongoDB Engineering Analysis\n"
     ]
    },
    {
     "name": "stderr",
     "output_type": "stream",
     "text": [
      "C:\\Users\\Izzath\\AppData\\Local\\Temp\\ipykernel_62976\\3153529079.py:35: UserWarning: pandas only supports SQLAlchemy connectable (engine/connection) or database string URI or sqlite3 DBAPI2 connection. Other DBAPI2 objects are not tested. Please consider using SQLAlchemy.\n",
      "  df = pd.read_sql_query(sql_query, conn)\n"
     ]
    },
    {
     "name": "stdout",
     "output_type": "stream",
     "text": [
      "Atlassian Jira Cloud Analysis\n"
     ]
    },
    {
     "data": {
      "text/html": [
       "<div>\n",
       "<style scoped>\n",
       "    .dataframe tbody tr th:only-of-type {\n",
       "        vertical-align: middle;\n",
       "    }\n",
       "\n",
       "    .dataframe tbody tr th {\n",
       "        vertical-align: top;\n",
       "    }\n",
       "\n",
       "    .dataframe thead th {\n",
       "        text-align: right;\n",
       "    }\n",
       "</style>\n",
       "<table border=\"1\" class=\"dataframe\">\n",
       "  <thead>\n",
       "    <tr style=\"text-align: right;\">\n",
       "      <th></th>\n",
       "      <th>Project Name</th>\n",
       "      <th>Total Issues</th>\n",
       "      <th>Total Completed Issues</th>\n",
       "      <th>Total In-progress Issues</th>\n",
       "      <th>Total Blocked Issues</th>\n",
       "      <th>Total People Change Issues</th>\n",
       "      <th>Resolution Time(Q1/days)</th>\n",
       "      <th>Resolution Time(Q2/days)</th>\n",
       "      <th>Resolution Time(Q3/days)</th>\n",
       "    </tr>\n",
       "  </thead>\n",
       "  <tbody>\n",
       "    <tr>\n",
       "      <th>0</th>\n",
       "      <td>Spring XD</td>\n",
       "      <td>122331</td>\n",
       "      <td>100518</td>\n",
       "      <td>21813</td>\n",
       "      <td>0</td>\n",
       "      <td>1863</td>\n",
       "      <td>2.0</td>\n",
       "      <td>8.0</td>\n",
       "      <td>25.0</td>\n",
       "    </tr>\n",
       "    <tr>\n",
       "      <th>1</th>\n",
       "      <td>Spring DataCass</td>\n",
       "      <td>26334</td>\n",
       "      <td>17688</td>\n",
       "      <td>8646</td>\n",
       "      <td>0</td>\n",
       "      <td>222</td>\n",
       "      <td>0.0</td>\n",
       "      <td>14.0</td>\n",
       "      <td>54.0</td>\n",
       "    </tr>\n",
       "    <tr>\n",
       "      <th>2</th>\n",
       "      <td>Sonatype Nexus</td>\n",
       "      <td>327096</td>\n",
       "      <td>100518</td>\n",
       "      <td>21813</td>\n",
       "      <td>0</td>\n",
       "      <td>5350</td>\n",
       "      <td>NaN</td>\n",
       "      <td>NaN</td>\n",
       "      <td>NaN</td>\n",
       "    </tr>\n",
       "    <tr>\n",
       "      <th>3</th>\n",
       "      <td>Apache Mesos</td>\n",
       "      <td>335181</td>\n",
       "      <td>100518</td>\n",
       "      <td>21813</td>\n",
       "      <td>0</td>\n",
       "      <td>4407</td>\n",
       "      <td>NaN</td>\n",
       "      <td>NaN</td>\n",
       "      <td>NaN</td>\n",
       "    </tr>\n",
       "    <tr>\n",
       "      <th>4</th>\n",
       "      <td>Apache Usergrid</td>\n",
       "      <td>44187</td>\n",
       "      <td>30063</td>\n",
       "      <td>14124</td>\n",
       "      <td>0</td>\n",
       "      <td>465</td>\n",
       "      <td>NaN</td>\n",
       "      <td>NaN</td>\n",
       "      <td>NaN</td>\n",
       "    </tr>\n",
       "    <tr>\n",
       "      <th>5</th>\n",
       "      <td>Apache MXNet</td>\n",
       "      <td>46332</td>\n",
       "      <td>31614</td>\n",
       "      <td>14718</td>\n",
       "      <td>0</td>\n",
       "      <td>708</td>\n",
       "      <td>NaN</td>\n",
       "      <td>NaN</td>\n",
       "      <td>NaN</td>\n",
       "    </tr>\n",
       "    <tr>\n",
       "      <th>6</th>\n",
       "      <td>Alloy Framework</td>\n",
       "      <td>50127</td>\n",
       "      <td>34551</td>\n",
       "      <td>15576</td>\n",
       "      <td>0</td>\n",
       "      <td>1073</td>\n",
       "      <td>NaN</td>\n",
       "      <td>NaN</td>\n",
       "      <td>NaN</td>\n",
       "    </tr>\n",
       "    <tr>\n",
       "      <th>7</th>\n",
       "      <td>Aptana Studio</td>\n",
       "      <td>268455</td>\n",
       "      <td>100518</td>\n",
       "      <td>21813</td>\n",
       "      <td>0</td>\n",
       "      <td>4737</td>\n",
       "      <td>NaN</td>\n",
       "      <td>NaN</td>\n",
       "      <td>NaN</td>\n",
       "    </tr>\n",
       "    <tr>\n",
       "      <th>8</th>\n",
       "      <td>Command-Line Interface</td>\n",
       "      <td>21285</td>\n",
       "      <td>14289</td>\n",
       "      <td>6996</td>\n",
       "      <td>0</td>\n",
       "      <td>436</td>\n",
       "      <td>NaN</td>\n",
       "      <td>NaN</td>\n",
       "      <td>NaN</td>\n",
       "    </tr>\n",
       "    <tr>\n",
       "      <th>9</th>\n",
       "      <td>Appcelerator Daemon</td>\n",
       "      <td>10329</td>\n",
       "      <td>6897</td>\n",
       "      <td>3432</td>\n",
       "      <td>0</td>\n",
       "      <td>48</td>\n",
       "      <td>NaN</td>\n",
       "      <td>NaN</td>\n",
       "      <td>NaN</td>\n",
       "    </tr>\n",
       "    <tr>\n",
       "      <th>10</th>\n",
       "      <td>Titanium Mobile Platform</td>\n",
       "      <td>100947</td>\n",
       "      <td>79233</td>\n",
       "      <td>21714</td>\n",
       "      <td>0</td>\n",
       "      <td>1365</td>\n",
       "      <td>NaN</td>\n",
       "      <td>NaN</td>\n",
       "      <td>NaN</td>\n",
       "    </tr>\n",
       "    <tr>\n",
       "      <th>11</th>\n",
       "      <td>The Titanium SDK</td>\n",
       "      <td>727947</td>\n",
       "      <td>100518</td>\n",
       "      <td>21813</td>\n",
       "      <td>0</td>\n",
       "      <td>14408</td>\n",
       "      <td>NaN</td>\n",
       "      <td>NaN</td>\n",
       "      <td>NaN</td>\n",
       "    </tr>\n",
       "    <tr>\n",
       "      <th>12</th>\n",
       "      <td>Appcelerator Studio</td>\n",
       "      <td>197307</td>\n",
       "      <td>100518</td>\n",
       "      <td>21813</td>\n",
       "      <td>0</td>\n",
       "      <td>3834</td>\n",
       "      <td>NaN</td>\n",
       "      <td>NaN</td>\n",
       "      <td>NaN</td>\n",
       "    </tr>\n",
       "    <tr>\n",
       "      <th>13</th>\n",
       "      <td>Atlassian Bamboo</td>\n",
       "      <td>470316</td>\n",
       "      <td>100518</td>\n",
       "      <td>21813</td>\n",
       "      <td>0</td>\n",
       "      <td>5191</td>\n",
       "      <td>NaN</td>\n",
       "      <td>NaN</td>\n",
       "      <td>NaN</td>\n",
       "    </tr>\n",
       "    <tr>\n",
       "      <th>14</th>\n",
       "      <td>Atlassian Clover</td>\n",
       "      <td>49533</td>\n",
       "      <td>34089</td>\n",
       "      <td>15444</td>\n",
       "      <td>0</td>\n",
       "      <td>852</td>\n",
       "      <td>NaN</td>\n",
       "      <td>NaN</td>\n",
       "      <td>NaN</td>\n",
       "    </tr>\n",
       "    <tr>\n",
       "      <th>15</th>\n",
       "      <td>Atlassian Crowd</td>\n",
       "      <td>142263</td>\n",
       "      <td>100518</td>\n",
       "      <td>21813</td>\n",
       "      <td>0</td>\n",
       "      <td>1825</td>\n",
       "      <td>NaN</td>\n",
       "      <td>NaN</td>\n",
       "      <td>NaN</td>\n",
       "    </tr>\n",
       "    <tr>\n",
       "      <th>16</th>\n",
       "      <td>Atlassian FishEye</td>\n",
       "      <td>182589</td>\n",
       "      <td>100518</td>\n",
       "      <td>21813</td>\n",
       "      <td>0</td>\n",
       "      <td>2224</td>\n",
       "      <td>NaN</td>\n",
       "      <td>NaN</td>\n",
       "      <td>NaN</td>\n",
       "    </tr>\n",
       "    <tr>\n",
       "      <th>17</th>\n",
       "      <td>Atlassian Jira Server</td>\n",
       "      <td>1457445</td>\n",
       "      <td>100518</td>\n",
       "      <td>21813</td>\n",
       "      <td>0</td>\n",
       "      <td>10015</td>\n",
       "      <td>NaN</td>\n",
       "      <td>NaN</td>\n",
       "      <td>NaN</td>\n",
       "    </tr>\n",
       "    <tr>\n",
       "      <th>18</th>\n",
       "      <td>Atlassian Software Cloud</td>\n",
       "      <td>386166</td>\n",
       "      <td>100518</td>\n",
       "      <td>21813</td>\n",
       "      <td>0</td>\n",
       "      <td>2767</td>\n",
       "      <td>NaN</td>\n",
       "      <td>NaN</td>\n",
       "      <td>NaN</td>\n",
       "    </tr>\n",
       "    <tr>\n",
       "      <th>19</th>\n",
       "      <td>Atlassian Atlassian Software Server</td>\n",
       "      <td>424446</td>\n",
       "      <td>100518</td>\n",
       "      <td>21813</td>\n",
       "      <td>0</td>\n",
       "      <td>4225</td>\n",
       "      <td>NaN</td>\n",
       "      <td>NaN</td>\n",
       "      <td>NaN</td>\n",
       "    </tr>\n",
       "    <tr>\n",
       "      <th>20</th>\n",
       "      <td>Atlassian Confluence Cloud</td>\n",
       "      <td>772497</td>\n",
       "      <td>100518</td>\n",
       "      <td>21813</td>\n",
       "      <td>0</td>\n",
       "      <td>2360</td>\n",
       "      <td>NaN</td>\n",
       "      <td>NaN</td>\n",
       "      <td>NaN</td>\n",
       "    </tr>\n",
       "    <tr>\n",
       "      <th>21</th>\n",
       "      <td>Atlassian Confluence Server</td>\n",
       "      <td>1396692</td>\n",
       "      <td>100518</td>\n",
       "      <td>21813</td>\n",
       "      <td>0</td>\n",
       "      <td>15761</td>\n",
       "      <td>NaN</td>\n",
       "      <td>NaN</td>\n",
       "      <td>NaN</td>\n",
       "    </tr>\n",
       "    <tr>\n",
       "      <th>22</th>\n",
       "      <td>Hyperledger Blockchain Explorer</td>\n",
       "      <td>26466</td>\n",
       "      <td>17754</td>\n",
       "      <td>8712</td>\n",
       "      <td>0</td>\n",
       "      <td>477</td>\n",
       "      <td>NaN</td>\n",
       "      <td>NaN</td>\n",
       "      <td>NaN</td>\n",
       "    </tr>\n",
       "    <tr>\n",
       "      <th>23</th>\n",
       "      <td>Hyperledger Fabric</td>\n",
       "      <td>451506</td>\n",
       "      <td>100518</td>\n",
       "      <td>21813</td>\n",
       "      <td>0</td>\n",
       "      <td>5699</td>\n",
       "      <td>NaN</td>\n",
       "      <td>NaN</td>\n",
       "      <td>NaN</td>\n",
       "    </tr>\n",
       "    <tr>\n",
       "      <th>24</th>\n",
       "      <td>Hyperledger Indy Node</td>\n",
       "      <td>76593</td>\n",
       "      <td>55242</td>\n",
       "      <td>21351</td>\n",
       "      <td>0</td>\n",
       "      <td>1391</td>\n",
       "      <td>NaN</td>\n",
       "      <td>NaN</td>\n",
       "      <td>NaN</td>\n",
       "    </tr>\n",
       "    <tr>\n",
       "      <th>25</th>\n",
       "      <td>Hyperledger Indy SDK</td>\n",
       "      <td>50523</td>\n",
       "      <td>34848</td>\n",
       "      <td>15675</td>\n",
       "      <td>0</td>\n",
       "      <td>997</td>\n",
       "      <td>NaN</td>\n",
       "      <td>NaN</td>\n",
       "      <td>NaN</td>\n",
       "    </tr>\n",
       "    <tr>\n",
       "      <th>26</th>\n",
       "      <td>Hyperledger Sawtooth</td>\n",
       "      <td>54879</td>\n",
       "      <td>37323</td>\n",
       "      <td>17556</td>\n",
       "      <td>0</td>\n",
       "      <td>793</td>\n",
       "      <td>NaN</td>\n",
       "      <td>NaN</td>\n",
       "      <td>NaN</td>\n",
       "    </tr>\n",
       "    <tr>\n",
       "      <th>27</th>\n",
       "      <td>Lsstcorp Data management</td>\n",
       "      <td>874698</td>\n",
       "      <td>100518</td>\n",
       "      <td>21813</td>\n",
       "      <td>0</td>\n",
       "      <td>6658</td>\n",
       "      <td>NaN</td>\n",
       "      <td>NaN</td>\n",
       "      <td>NaN</td>\n",
       "    </tr>\n",
       "    <tr>\n",
       "      <th>28</th>\n",
       "      <td>Lyrasis Dura Cloud</td>\n",
       "      <td>37125</td>\n",
       "      <td>25641</td>\n",
       "      <td>11484</td>\n",
       "      <td>0</td>\n",
       "      <td>635</td>\n",
       "      <td>NaN</td>\n",
       "      <td>NaN</td>\n",
       "      <td>NaN</td>\n",
       "    </tr>\n",
       "    <tr>\n",
       "      <th>29</th>\n",
       "      <td>MongoDB Compass</td>\n",
       "      <td>59103</td>\n",
       "      <td>40425</td>\n",
       "      <td>18678</td>\n",
       "      <td>0</td>\n",
       "      <td>751</td>\n",
       "      <td>NaN</td>\n",
       "      <td>NaN</td>\n",
       "      <td>NaN</td>\n",
       "    </tr>\n",
       "    <tr>\n",
       "      <th>30</th>\n",
       "      <td>The Mongo C++ driver</td>\n",
       "      <td>67056</td>\n",
       "      <td>46728</td>\n",
       "      <td>20328</td>\n",
       "      <td>0</td>\n",
       "      <td>1433</td>\n",
       "      <td>NaN</td>\n",
       "      <td>NaN</td>\n",
       "      <td>NaN</td>\n",
       "    </tr>\n",
       "    <tr>\n",
       "      <th>31</th>\n",
       "      <td>The Mongo Java driver</td>\n",
       "      <td>117480</td>\n",
       "      <td>95700</td>\n",
       "      <td>21780</td>\n",
       "      <td>0</td>\n",
       "      <td>2060</td>\n",
       "      <td>NaN</td>\n",
       "      <td>NaN</td>\n",
       "      <td>NaN</td>\n",
       "    </tr>\n",
       "    <tr>\n",
       "      <th>32</th>\n",
       "      <td>MongoDB Core Server</td>\n",
       "      <td>1605879</td>\n",
       "      <td>100518</td>\n",
       "      <td>21813</td>\n",
       "      <td>0</td>\n",
       "      <td>30131</td>\n",
       "      <td>NaN</td>\n",
       "      <td>NaN</td>\n",
       "      <td>NaN</td>\n",
       "    </tr>\n",
       "    <tr>\n",
       "      <th>33</th>\n",
       "      <td>Moodle</td>\n",
       "      <td>2202453</td>\n",
       "      <td>100518</td>\n",
       "      <td>21813</td>\n",
       "      <td>0</td>\n",
       "      <td>40665</td>\n",
       "      <td>NaN</td>\n",
       "      <td>NaN</td>\n",
       "      <td>NaN</td>\n",
       "    </tr>\n",
       "    <tr>\n",
       "      <th>34</th>\n",
       "      <td>Mule APIkit</td>\n",
       "      <td>29238</td>\n",
       "      <td>19470</td>\n",
       "      <td>9768</td>\n",
       "      <td>0</td>\n",
       "      <td>438</td>\n",
       "      <td>NaN</td>\n",
       "      <td>NaN</td>\n",
       "      <td>NaN</td>\n",
       "    </tr>\n",
       "    <tr>\n",
       "      <th>35</th>\n",
       "      <td>Mule</td>\n",
       "      <td>389928</td>\n",
       "      <td>100518</td>\n",
       "      <td>21813</td>\n",
       "      <td>0</td>\n",
       "      <td>5693</td>\n",
       "      <td>NaN</td>\n",
       "      <td>NaN</td>\n",
       "      <td>NaN</td>\n",
       "    </tr>\n",
       "    <tr>\n",
       "      <th>36</th>\n",
       "      <td>DotNetNuke Platform</td>\n",
       "      <td>331980</td>\n",
       "      <td>100518</td>\n",
       "      <td>21813</td>\n",
       "      <td>0</td>\n",
       "      <td>5677</td>\n",
       "      <td>0.0</td>\n",
       "      <td>8.0</td>\n",
       "      <td>64.0</td>\n",
       "    </tr>\n",
       "    <tr>\n",
       "      <th>37</th>\n",
       "      <td>The MongoDB Engineering</td>\n",
       "      <td>339867</td>\n",
       "      <td>100518</td>\n",
       "      <td>21813</td>\n",
       "      <td>0</td>\n",
       "      <td>5949</td>\n",
       "      <td>NaN</td>\n",
       "      <td>NaN</td>\n",
       "      <td>NaN</td>\n",
       "    </tr>\n",
       "    <tr>\n",
       "      <th>38</th>\n",
       "      <td>Atlassian Jira Cloud</td>\n",
       "      <td>847077</td>\n",
       "      <td>100518</td>\n",
       "      <td>21813</td>\n",
       "      <td>0</td>\n",
       "      <td>2145</td>\n",
       "      <td>NaN</td>\n",
       "      <td>NaN</td>\n",
       "      <td>NaN</td>\n",
       "    </tr>\n",
       "  </tbody>\n",
       "</table>\n",
       "</div>"
      ],
      "text/plain": [
       "                           Project Name  Total Issues  Total Completed Issues  \\\n",
       "0                             Spring XD        122331                  100518   \n",
       "1                       Spring DataCass         26334                   17688   \n",
       "2                        Sonatype Nexus        327096                  100518   \n",
       "3                          Apache Mesos        335181                  100518   \n",
       "4                       Apache Usergrid         44187                   30063   \n",
       "5                          Apache MXNet         46332                   31614   \n",
       "6                       Alloy Framework         50127                   34551   \n",
       "7                         Aptana Studio        268455                  100518   \n",
       "8                Command-Line Interface         21285                   14289   \n",
       "9                   Appcelerator Daemon         10329                    6897   \n",
       "10             Titanium Mobile Platform        100947                   79233   \n",
       "11                    The Titanium SDK         727947                  100518   \n",
       "12                  Appcelerator Studio        197307                  100518   \n",
       "13                    Atlassian Bamboo         470316                  100518   \n",
       "14                     Atlassian Clover         49533                   34089   \n",
       "15                      Atlassian Crowd        142263                  100518   \n",
       "16                    Atlassian FishEye        182589                  100518   \n",
       "17                Atlassian Jira Server       1457445                  100518   \n",
       "18             Atlassian Software Cloud        386166                  100518   \n",
       "19  Atlassian Atlassian Software Server        424446                  100518   \n",
       "20           Atlassian Confluence Cloud        772497                  100518   \n",
       "21          Atlassian Confluence Server       1396692                  100518   \n",
       "22      Hyperledger Blockchain Explorer         26466                   17754   \n",
       "23                   Hyperledger Fabric        451506                  100518   \n",
       "24                Hyperledger Indy Node         76593                   55242   \n",
       "25                 Hyperledger Indy SDK         50523                   34848   \n",
       "26                 Hyperledger Sawtooth         54879                   37323   \n",
       "27             Lsstcorp Data management        874698                  100518   \n",
       "28                   Lyrasis Dura Cloud         37125                   25641   \n",
       "29                     MongoDB Compass          59103                   40425   \n",
       "30                 The Mongo C++ driver         67056                   46728   \n",
       "31                The Mongo Java driver        117480                   95700   \n",
       "32                  MongoDB Core Server       1605879                  100518   \n",
       "33                               Moodle       2202453                  100518   \n",
       "34                          Mule APIkit         29238                   19470   \n",
       "35                                 Mule        389928                  100518   \n",
       "36                  DotNetNuke Platform        331980                  100518   \n",
       "37              The MongoDB Engineering        339867                  100518   \n",
       "38                 Atlassian Jira Cloud        847077                  100518   \n",
       "\n",
       "    Total In-progress Issues  Total Blocked Issues  \\\n",
       "0                      21813                     0   \n",
       "1                       8646                     0   \n",
       "2                      21813                     0   \n",
       "3                      21813                     0   \n",
       "4                      14124                     0   \n",
       "5                      14718                     0   \n",
       "6                      15576                     0   \n",
       "7                      21813                     0   \n",
       "8                       6996                     0   \n",
       "9                       3432                     0   \n",
       "10                     21714                     0   \n",
       "11                     21813                     0   \n",
       "12                     21813                     0   \n",
       "13                     21813                     0   \n",
       "14                     15444                     0   \n",
       "15                     21813                     0   \n",
       "16                     21813                     0   \n",
       "17                     21813                     0   \n",
       "18                     21813                     0   \n",
       "19                     21813                     0   \n",
       "20                     21813                     0   \n",
       "21                     21813                     0   \n",
       "22                      8712                     0   \n",
       "23                     21813                     0   \n",
       "24                     21351                     0   \n",
       "25                     15675                     0   \n",
       "26                     17556                     0   \n",
       "27                     21813                     0   \n",
       "28                     11484                     0   \n",
       "29                     18678                     0   \n",
       "30                     20328                     0   \n",
       "31                     21780                     0   \n",
       "32                     21813                     0   \n",
       "33                     21813                     0   \n",
       "34                      9768                     0   \n",
       "35                     21813                     0   \n",
       "36                     21813                     0   \n",
       "37                     21813                     0   \n",
       "38                     21813                     0   \n",
       "\n",
       "    Total People Change Issues  Resolution Time(Q1/days)  \\\n",
       "0                         1863                       2.0   \n",
       "1                          222                       0.0   \n",
       "2                         5350                       NaN   \n",
       "3                         4407                       NaN   \n",
       "4                          465                       NaN   \n",
       "5                          708                       NaN   \n",
       "6                         1073                       NaN   \n",
       "7                         4737                       NaN   \n",
       "8                          436                       NaN   \n",
       "9                           48                       NaN   \n",
       "10                        1365                       NaN   \n",
       "11                       14408                       NaN   \n",
       "12                        3834                       NaN   \n",
       "13                        5191                       NaN   \n",
       "14                         852                       NaN   \n",
       "15                        1825                       NaN   \n",
       "16                        2224                       NaN   \n",
       "17                       10015                       NaN   \n",
       "18                        2767                       NaN   \n",
       "19                        4225                       NaN   \n",
       "20                        2360                       NaN   \n",
       "21                       15761                       NaN   \n",
       "22                         477                       NaN   \n",
       "23                        5699                       NaN   \n",
       "24                        1391                       NaN   \n",
       "25                         997                       NaN   \n",
       "26                         793                       NaN   \n",
       "27                        6658                       NaN   \n",
       "28                         635                       NaN   \n",
       "29                         751                       NaN   \n",
       "30                        1433                       NaN   \n",
       "31                        2060                       NaN   \n",
       "32                       30131                       NaN   \n",
       "33                       40665                       NaN   \n",
       "34                         438                       NaN   \n",
       "35                        5693                       NaN   \n",
       "36                        5677                       0.0   \n",
       "37                        5949                       NaN   \n",
       "38                        2145                       NaN   \n",
       "\n",
       "    Resolution Time(Q2/days)  Resolution Time(Q3/days)  \n",
       "0                        8.0                      25.0  \n",
       "1                       14.0                      54.0  \n",
       "2                        NaN                       NaN  \n",
       "3                        NaN                       NaN  \n",
       "4                        NaN                       NaN  \n",
       "5                        NaN                       NaN  \n",
       "6                        NaN                       NaN  \n",
       "7                        NaN                       NaN  \n",
       "8                        NaN                       NaN  \n",
       "9                        NaN                       NaN  \n",
       "10                       NaN                       NaN  \n",
       "11                       NaN                       NaN  \n",
       "12                       NaN                       NaN  \n",
       "13                       NaN                       NaN  \n",
       "14                       NaN                       NaN  \n",
       "15                       NaN                       NaN  \n",
       "16                       NaN                       NaN  \n",
       "17                       NaN                       NaN  \n",
       "18                       NaN                       NaN  \n",
       "19                       NaN                       NaN  \n",
       "20                       NaN                       NaN  \n",
       "21                       NaN                       NaN  \n",
       "22                       NaN                       NaN  \n",
       "23                       NaN                       NaN  \n",
       "24                       NaN                       NaN  \n",
       "25                       NaN                       NaN  \n",
       "26                       NaN                       NaN  \n",
       "27                       NaN                       NaN  \n",
       "28                       NaN                       NaN  \n",
       "29                       NaN                       NaN  \n",
       "30                       NaN                       NaN  \n",
       "31                       NaN                       NaN  \n",
       "32                       NaN                       NaN  \n",
       "33                       NaN                       NaN  \n",
       "34                       NaN                       NaN  \n",
       "35                       NaN                       NaN  \n",
       "36                       8.0                      64.0  \n",
       "37                       NaN                       NaN  \n",
       "38                       NaN                       NaN  "
      ]
     },
     "execution_count": 32,
     "metadata": {},
     "output_type": "execute_result"
    }
   ],
   "source": [
    "import datetime\n",
    "\n",
    "def generate_resolution_days(row):\n",
    "    if row[\"Resolution\"] == \"Complete\":\n",
    "        return (pd.to_datetime(row[\"Resolution_Date\"]) - pd.to_datetime(row[\"Creation_Date\"])).days\n",
    "    else:\n",
    "        return None\n",
    "\n",
    "def generate_analysis(df, project_name):\n",
    "    # Analysing Total number of issues\n",
    "    print(f\"{project_name} Analysis\")\n",
    "    total_number_issues = df.size\n",
    "    total_number_completed_issues = df[(df[\"Updated Status\"] == \"completed\")].size\n",
    "    total_number_progress_issues = df[(df[\"Updated Status\"] == \"in_progress\")].size\n",
    "    total_number_blocked_issues = df[(df[\"Updated Status\"] == \"blocked\")].size\n",
    "\n",
    "    # Stats about completing a issue    \n",
    "    df[\"Resolution_Time\"] = df.apply(generate_resolution_days, axis=1)\n",
    "    resolution_time_quartiles_q1 = df[\"Resolution_Time\"].quantile(0.25)\n",
    "    resolution_time_quartiles_q2 = df[\"Resolution_Time\"].quantile(0.5)\n",
    "    resolution_time_quartiles_q3 = df[\"Resolution_Time\"].quantile(0.75)\n",
    "\n",
    "    \n",
    "    total_change_count = (df[\"Freq\"] > 0).sum()\n",
    "\n",
    "    return [project_name, total_number_issues, total_number_completed_issues, total_number_progress_issues, total_number_blocked_issues, total_change_count, resolution_time_quartiles_q1, resolution_time_quartiles_q2, resolution_time_quartiles_q3]\n",
    "\n",
    "def generate(conn):\n",
    "    df = pd.read_sql_query(\"SELECT ID, Name FROM Project\", conn)\n",
    "    rows = []\n",
    "\n",
    "    for index, project_row in df.iterrows():\n",
    "       project_id = project_row['ID']\n",
    "       sql_query = f\"SELECT Issue.*, Issue_ID, COUNT(CASE WHEN Change_Log.ID > 0 AND Change_Log.Change_Type='PEOPLE' THEN 1 END) AS Freq FROM Issue LEFT JOIN Change_Log ON Issue.ID = Change_Log.Issue_ID GROUP BY Issue.ID HAVING issue.Project_ID = {project_id}\"\n",
    "       df = pd.read_sql_query(sql_query, conn)\n",
    "       df['Updated Status'] = df3.apply(add_updated_status, axis=1)\n",
    "\n",
    "       rows.append(generate_analysis(df, project_row[\"Name\"]))\n",
    "\n",
    "    return pd.DataFrame(rows, columns=[\"Project Name\", \"Total Issues\", \"Total Completed Issues\", \"Total In-progress Issues\", \"Total Blocked Issues\", \"Total People Change Issues\", \"Resolution Time(Q1/days)\", \"Resolution Time(Q2/days)\", \"Resolution Time(Q3/days)\"])\n",
    "       \n",
    "\n",
    "df4 = generate(conn)\n",
    "df4\n"
   ]
  }
 ],
 "metadata": {
  "kernelspec": {
   "display_name": "env",
   "language": "python",
   "name": "env"
  },
  "language_info": {
   "codemirror_mode": {
    "name": "ipython",
    "version": 3
   },
   "file_extension": ".py",
   "mimetype": "text/x-python",
   "name": "python",
   "nbconvert_exporter": "python",
   "pygments_lexer": "ipython3",
   "version": "3.10.11"
  }
 },
 "nbformat": 4,
 "nbformat_minor": 2
}
