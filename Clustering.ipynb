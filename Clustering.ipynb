{
 "cells": [
  {
   "cell_type": "code",
   "execution_count": 1,
   "id": "31dc11b6-f089-4028-ad40-f65781c4eb62",
   "metadata": {
    "scrolled": true
   },
   "outputs": [
    {
     "name": "stdout",
     "output_type": "stream",
     "text": [
      "Requirement already satisfied: PyMySQL in c:\\users\\pranavan\\anaconda3\\lib\\site-packages (1.1.1)\n",
      "Requirement already satisfied: ipython-sql in c:\\users\\pranavan\\anaconda3\\lib\\site-packages (0.5.0)\n",
      "Requirement already satisfied: pandas in c:\\users\\pranavan\\anaconda3\\lib\\site-packages (2.1.4)\n",
      "Requirement already satisfied: matplotlib in c:\\users\\pranavan\\anaconda3\\lib\\site-packages (3.8.0)\n",
      "Requirement already satisfied: scikit-learn in c:\\users\\pranavan\\anaconda3\\lib\\site-packages (1.2.2)\n",
      "Requirement already satisfied: sqlalchemy in c:\\users\\pranavan\\anaconda3\\lib\\site-packages (2.0.25)\n",
      "Requirement already satisfied: prettytable in c:\\users\\pranavan\\anaconda3\\lib\\site-packages (from ipython-sql) (3.12.0)\n",
      "Requirement already satisfied: ipython in c:\\users\\pranavan\\anaconda3\\lib\\site-packages (from ipython-sql) (8.20.0)\n",
      "Requirement already satisfied: sqlparse in c:\\users\\pranavan\\anaconda3\\lib\\site-packages (from ipython-sql) (0.5.3)\n",
      "Requirement already satisfied: six in c:\\users\\pranavan\\anaconda3\\lib\\site-packages (from ipython-sql) (1.16.0)\n",
      "Requirement already satisfied: ipython-genutils in c:\\users\\pranavan\\anaconda3\\lib\\site-packages (from ipython-sql) (0.2.0)\n",
      "Requirement already satisfied: numpy<2,>=1.23.2 in c:\\users\\pranavan\\anaconda3\\lib\\site-packages (from pandas) (1.26.4)\n",
      "Requirement already satisfied: python-dateutil>=2.8.2 in c:\\users\\pranavan\\anaconda3\\lib\\site-packages (from pandas) (2.8.2)\n",
      "Requirement already satisfied: pytz>=2020.1 in c:\\users\\pranavan\\anaconda3\\lib\\site-packages (from pandas) (2023.3.post1)\n",
      "Requirement already satisfied: tzdata>=2022.1 in c:\\users\\pranavan\\anaconda3\\lib\\site-packages (from pandas) (2023.3)\n",
      "Requirement already satisfied: contourpy>=1.0.1 in c:\\users\\pranavan\\anaconda3\\lib\\site-packages (from matplotlib) (1.2.0)\n",
      "Requirement already satisfied: cycler>=0.10 in c:\\users\\pranavan\\anaconda3\\lib\\site-packages (from matplotlib) (0.11.0)\n",
      "Requirement already satisfied: fonttools>=4.22.0 in c:\\users\\pranavan\\anaconda3\\lib\\site-packages (from matplotlib) (4.25.0)\n",
      "Requirement already satisfied: kiwisolver>=1.0.1 in c:\\users\\pranavan\\anaconda3\\lib\\site-packages (from matplotlib) (1.4.4)\n",
      "Requirement already satisfied: packaging>=20.0 in c:\\users\\pranavan\\anaconda3\\lib\\site-packages (from matplotlib) (23.1)\n",
      "Requirement already satisfied: pillow>=6.2.0 in c:\\users\\pranavan\\anaconda3\\lib\\site-packages (from matplotlib) (10.2.0)\n",
      "Requirement already satisfied: pyparsing>=2.3.1 in c:\\users\\pranavan\\anaconda3\\lib\\site-packages (from matplotlib) (3.0.9)\n",
      "Requirement already satisfied: scipy>=1.3.2 in c:\\users\\pranavan\\anaconda3\\lib\\site-packages (from scikit-learn) (1.11.4)\n",
      "Requirement already satisfied: joblib>=1.1.1 in c:\\users\\pranavan\\anaconda3\\lib\\site-packages (from scikit-learn) (1.2.0)\n",
      "Requirement already satisfied: threadpoolctl>=2.0.0 in c:\\users\\pranavan\\anaconda3\\lib\\site-packages (from scikit-learn) (2.2.0)\n",
      "Requirement already satisfied: typing-extensions>=4.6.0 in c:\\users\\pranavan\\anaconda3\\lib\\site-packages (from sqlalchemy) (4.9.0)\n",
      "Requirement already satisfied: greenlet!=0.4.17 in c:\\users\\pranavan\\anaconda3\\lib\\site-packages (from sqlalchemy) (3.0.1)\n",
      "Requirement already satisfied: decorator in c:\\users\\pranavan\\anaconda3\\lib\\site-packages (from ipython->ipython-sql) (5.1.1)\n",
      "Requirement already satisfied: jedi>=0.16 in c:\\users\\pranavan\\anaconda3\\lib\\site-packages (from ipython->ipython-sql) (0.18.1)\n",
      "Requirement already satisfied: matplotlib-inline in c:\\users\\pranavan\\anaconda3\\lib\\site-packages (from ipython->ipython-sql) (0.1.6)\n",
      "Requirement already satisfied: prompt-toolkit<3.1.0,>=3.0.41 in c:\\users\\pranavan\\anaconda3\\lib\\site-packages (from ipython->ipython-sql) (3.0.43)\n",
      "Requirement already satisfied: pygments>=2.4.0 in c:\\users\\pranavan\\anaconda3\\lib\\site-packages (from ipython->ipython-sql) (2.15.1)\n",
      "Requirement already satisfied: stack-data in c:\\users\\pranavan\\anaconda3\\lib\\site-packages (from ipython->ipython-sql) (0.2.0)\n",
      "Requirement already satisfied: traitlets>=5 in c:\\users\\pranavan\\anaconda3\\lib\\site-packages (from ipython->ipython-sql) (5.7.1)\n",
      "Requirement already satisfied: colorama in c:\\users\\pranavan\\anaconda3\\lib\\site-packages (from ipython->ipython-sql) (0.4.6)\n",
      "Requirement already satisfied: wcwidth in c:\\users\\pranavan\\anaconda3\\lib\\site-packages (from prettytable->ipython-sql) (0.2.5)\n",
      "Requirement already satisfied: parso<0.9.0,>=0.8.0 in c:\\users\\pranavan\\anaconda3\\lib\\site-packages (from jedi>=0.16->ipython->ipython-sql) (0.8.3)\n",
      "Requirement already satisfied: executing in c:\\users\\pranavan\\anaconda3\\lib\\site-packages (from stack-data->ipython->ipython-sql) (0.8.3)\n",
      "Requirement already satisfied: asttokens in c:\\users\\pranavan\\anaconda3\\lib\\site-packages (from stack-data->ipython->ipython-sql) (2.0.5)\n",
      "Requirement already satisfied: pure-eval in c:\\users\\pranavan\\anaconda3\\lib\\site-packages (from stack-data->ipython->ipython-sql) (0.2.2)\n"
     ]
    }
   ],
   "source": [
    "!pip install PyMySQL ipython-sql pandas matplotlib scikit-learn sqlalchemy"
   ]
  },
  {
   "cell_type": "code",
   "execution_count": 2,
   "id": "329df4b7-0897-40f1-ba22-1e8f2ca7fd87",
   "metadata": {},
   "outputs": [
    {
     "name": "stdout",
     "output_type": "stream",
     "text": [
      "Connection successful\n"
     ]
    }
   ],
   "source": [
    "import pymysql\n",
    "from sqlalchemy import create_engine\n",
    "import pandas as pd\n",
    "\n",
    "# Database connection parameters\n",
    "db_name = \"tawos_db\"\n",
    "db_host = \"localhost\"\n",
    "db_username = \"root\"\n",
    "db_password = \"pranavan\"\n",
    "\n",
    "try:\n",
    "    # Create a connection using SQLAlchemy\n",
    "    connection_string = f\"mysql+pymysql://{db_username}:{db_password}@{db_host}/{db_name}\"\n",
    "    engine = create_engine(connection_string)\n",
    "    print(\"Connection successful\")\n",
    "except Exception as e:\n",
    "    print(\"Error:\", e)"
   ]
  },
  {
   "cell_type": "code",
   "execution_count": 3,
   "id": "0286799d-a5b0-48a4-996a-6d5612599f50",
   "metadata": {},
   "outputs": [
    {
     "name": "stdout",
     "output_type": "stream",
     "text": [
      "Issue Table Sample:\n",
      "     Type Priority  Timespent  Story_Point  Resolution_Time_Minutes\n",
      "0    Bug    Major        NaN          1.0                      0.0\n",
      "1    Bug  Trivial        NaN          1.0                      0.0\n",
      "2    Bug    Major        NaN         10.0                      0.0\n",
      "3  Story    Minor        NaN          8.0                      0.0\n",
      "4    Bug    Major        NaN          5.0                      0.0\n",
      "Sprint Table Sample:\n",
      "     State           Start_Date             End_Date\n",
      "0  CLOSED  2016-02-16 00:38:45  2016-02-26 08:34:00\n",
      "1  CLOSED  2016-02-01 17:20:14  2016-02-13 01:16:00\n",
      "2  CLOSED  2015-12-17 18:20:12  2015-12-26 02:16:00\n",
      "3  CLOSED  2015-11-30 16:32:01  2015-12-11 17:28:00\n",
      "4  CLOSED  2015-11-16 16:10:26  2015-11-27 17:06:00\n",
      "Change Log Table Sample:\n",
      "    Change_Type       Creation_Date\n",
      "0        OTHER 2017-01-23 10:21:48\n",
      "1        OTHER 2017-03-21 16:54:56\n",
      "2       STATUS 2017-03-21 16:55:23\n",
      "3       STATUS 2017-03-21 16:55:23\n",
      "4  DESCRIPTION 2017-03-22 18:27:01\n"
     ]
    }
   ],
   "source": [
    "# Fetch the data using pandas' read_sql method\n",
    "issue_query = \"\"\"\n",
    "SELECT \n",
    "    Type, \n",
    "    Priority, \n",
    "    Timespent, \n",
    "    Story_Point, \n",
    "    Resolution_Time_Minutes\n",
    "FROM Issue;\n",
    "\"\"\"\n",
    "issue_df = pd.read_sql(issue_query, engine)\n",
    "\n",
    "# Query Sprint table\n",
    "sprint_query = \"\"\"\n",
    "SELECT \n",
    "    State, \n",
    "    Start_Date, \n",
    "    End_Date\n",
    "FROM Sprint;\n",
    "\"\"\"\n",
    "sprint_df = pd.read_sql(sprint_query, engine)\n",
    "\n",
    "# Query Change_Log table\n",
    "change_log_query = \"\"\"\n",
    "SELECT \n",
    "    Change_Type, \n",
    "    Creation_Date\n",
    "FROM Change_Log;\n",
    "\"\"\"\n",
    "change_log_df = pd.read_sql(change_log_query, engine)\n",
    "\n",
    "# Display data samples\n",
    "print(\"Issue Table Sample:\\n\", issue_df.head())\n",
    "print(\"Sprint Table Sample:\\n\", sprint_df.head())\n",
    "print(\"Change Log Table Sample:\\n\", change_log_df.head())\n",
    "\n",
    "# Close the engine connection\n",
    "engine.dispose()"
   ]
  },
  {
   "cell_type": "code",
   "execution_count": 4,
   "id": "7efd9004-ff72-41d4-aace-1983ddbccc22",
   "metadata": {},
   "outputs": [
    {
     "name": "stdout",
     "output_type": "stream",
     "text": [
      "Normalized Data Sample:\n",
      " [[-1.23357383e-13 -4.69870645e-02 -2.06552779e+00]\n",
      " [-1.23357383e-13 -4.69870645e-02 -2.06552779e+00]\n",
      " [-1.23357383e-13 -4.59620706e-02 -2.06552779e+00]\n",
      " [-1.23357383e-13 -4.61898470e-02 -2.06552779e+00]\n",
      " [-1.23357383e-13 -4.65315116e-02 -2.06552779e+00]]\n"
     ]
    }
   ],
   "source": [
    "from sklearn.preprocessing import StandardScaler\n",
    "\n",
    "# Combine data (Assume common IDs are used; adjust as necessary)\n",
    "combined_df = pd.concat([issue_df, sprint_df, change_log_df], axis=1)\n",
    "\n",
    "# Separate numeric and categorical columns\n",
    "numeric_columns = combined_df.select_dtypes(include=['float64', 'int64']).columns\n",
    "categorical_columns = combined_df.select_dtypes(exclude=['float64', 'int64']).columns\n",
    "\n",
    "# Fill missing values in numeric columns with the mean\n",
    "combined_df[numeric_columns] = combined_df[numeric_columns].fillna(combined_df[numeric_columns].mean())\n",
    "\n",
    "# Fill missing values in categorical columns with the mode\n",
    "for col in categorical_columns:\n",
    "    combined_df[col] = combined_df[col].fillna(combined_df[col].mode()[0])\n",
    "\n",
    "# Select numeric columns for clustering\n",
    "numeric_data = combined_df.select_dtypes(include=['float64', 'int64'])\n",
    "\n",
    "# Normalize the data\n",
    "scaler = StandardScaler()\n",
    "scaled_data = scaler.fit_transform(numeric_data)\n",
    "\n",
    "# Display the normalized data\n",
    "print(\"Normalized Data Sample:\\n\", scaled_data[:5])"
   ]
  },
  {
   "cell_type": "code",
   "execution_count": 5,
   "id": "34f45e64-3377-41a7-9db3-713c7d9a6419",
   "metadata": {},
   "outputs": [
    {
     "name": "stdout",
     "output_type": "stream",
     "text": [
      "Clustered Data Sample:\n",
      "     Type Priority   Timespent  Story_Point  Resolution_Time_Minutes   State  \\\n",
      "0    Bug    Major  323.090501          1.0                      0.0  CLOSED   \n",
      "1    Bug  Trivial  323.090501          1.0                      0.0  CLOSED   \n",
      "2    Bug    Major  323.090501         10.0                      0.0  CLOSED   \n",
      "3  Story    Minor  323.090501          8.0                      0.0  CLOSED   \n",
      "4    Bug    Major  323.090501          5.0                      0.0  CLOSED   \n",
      "\n",
      "            Start_Date             End_Date  Change_Type       Creation_Date  \\\n",
      "0  2016-02-16 00:38:45  2016-02-26 08:34:00        OTHER 2017-01-23 10:21:48   \n",
      "1  2016-02-01 17:20:14  2016-02-13 01:16:00        OTHER 2017-03-21 16:54:56   \n",
      "2  2015-12-17 18:20:12  2015-12-26 02:16:00       STATUS 2017-03-21 16:55:23   \n",
      "3  2015-11-30 16:32:01  2015-12-11 17:28:00       STATUS 2017-03-21 16:55:23   \n",
      "4  2015-11-16 16:10:26  2015-11-27 17:06:00  DESCRIPTION 2017-03-22 18:27:01   \n",
      "\n",
      "   Cluster  \n",
      "0        0  \n",
      "1        0  \n",
      "2        0  \n",
      "3        0  \n",
      "4        0  \n",
      "Cluster Centers:\n",
      " [[-2.16614813e-04 -3.20598885e-04 -5.77634546e-02]\n",
      " [-1.23357383e-13  3.04191990e+03  1.92694138e+00]\n",
      " [ 4.41526832e-02 -1.98706793e-03  1.17739052e+01]]\n"
     ]
    }
   ],
   "source": [
    "from sklearn.cluster import KMeans\n",
    "\n",
    "# Define the number of clusters\n",
    "k = 3\n",
    "\n",
    "# Initialize and fit the K-Means model\n",
    "kmeans = KMeans(n_clusters=k, random_state=42, n_init=10)\n",
    "kmeans.fit(scaled_data)\n",
    "\n",
    "# Add cluster labels to the original DataFrame\n",
    "combined_df['Cluster'] = kmeans.labels_\n",
    "\n",
    "# Display the clustered data (first 5 rows as an example)\n",
    "print(\"Clustered Data Sample:\\n\", combined_df.head())\n",
    "\n",
    "# Optional: If you want to see the cluster centers\n",
    "print(\"Cluster Centers:\\n\", kmeans.cluster_centers_)"
   ]
  },
  {
   "cell_type": "code",
   "execution_count": 6,
   "id": "e04555ec-535b-4647-bf2b-280a87f6fae8",
   "metadata": {},
   "outputs": [
    {
     "data": {
      "image/png": "[encoded data removed]",
      "text/plain": [
       "<Figure size 640x480 with 1 Axes>"
      ]
     },
     "metadata": {},
     "output_type": "display_data"
    }
   ],
   "source": [
    "import matplotlib.pyplot as plt\n",
    "\n",
    "# Use the Elbow Method\n",
    "inertia = []\n",
    "k_range = range(1, 11)\n",
    "\n",
    "for k in k_range:\n",
    "    kmeans = KMeans(n_clusters=k, random_state=42, n_init=10)\n",
    "    kmeans.fit(scaled_data)\n",
    "    inertia.append(kmeans.inertia_)\n",
    "\n",
    "# Plot the Elbow Method results\n",
    "plt.plot(k_range, inertia, marker='o')\n",
    "plt.title('Elbow Method')\n",
    "plt.xlabel('Number of Clusters')\n",
    "plt.ylabel('Inertia')\n",
    "plt.show()"
   ]
  },
  {
   "cell_type": "code",
   "execution_count": 7,
   "id": "c97fa979-2c85-472f-9b8e-0a2f8f6a9b1f",
   "metadata": {},
   "outputs": [
    {
     "name": "stdout",
     "output_type": "stream",
     "text": [
      "Clustered results saved to 'clustered_results.csv'\n"
     ]
    }
   ],
   "source": [
    "# Save the clustered data to a CSV file\n",
    "combined_df.to_csv('clustered_results.csv', index=False)\n",
    "print(\"Clustered results saved to 'clustered_results.csv'\")"
   ]
  },
  {
   "cell_type": "code",
   "execution_count": null,
   "id": "e206dca0-f3ca-49f6-aca6-aae1aae47830",
   "metadata": {},
   "outputs": [],
   "source": []
  }
 ],
 "metadata": {
  "kernelspec": {
   "display_name": "Python 3 (ipykernel)",
   "language": "python",
   "name": "python3"
  },
  "language_info": {
   "codemirror_mode": {
    "name": "ipython",
    "version": 3
   },
   "file_extension": ".py",
   "mimetype": "text/x-python",
   "name": "python",
   "nbconvert_exporter": "python",
   "pygments_lexer": "ipython3",
   "version": "3.11.7"
  }
 },
 "nbformat": 4,
 "nbformat_minor": 5
}
